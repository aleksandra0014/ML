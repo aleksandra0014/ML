{
  "cells": [
    {
      "cell_type": "markdown",
      "metadata": {
        "id": "view-in-github",
        "colab_type": "text"
      },
      "source": [
        "<a href=\"https://colab.research.google.com/github/aleksandra0014/ML/blob/main/logistic_regression.ipynb\" target=\"_parent\"><img src=\"https://colab.research.google.com/assets/colab-badge.svg\" alt=\"Open In Colab\"/></a>"
      ]
    },
    {
      "cell_type": "code",
      "outputs": [
        {
          "output_type": "stream",
          "name": "stdout",
          "text": [
            "X_shape =  (200, 2) \n",
            "y.shape =  (200, 1)\n"
          ]
        }
      ],
      "source": [
        "from sklearn import datasets\n",
        "import numpy as np\n",
        "\n",
        "N,D = 200,2\n",
        "\n",
        "\n",
        "X,y = datasets.make_classification(\n",
        "    n_samples=N,\n",
        "    n_features=D,\n",
        "    n_informative=2,\n",
        "    n_redundant=0,\n",
        "    random_state=1\n",
        ")\n",
        "\n",
        "X = np.reshape(X, (N,D))\n",
        "y = np.reshape(y, (N,1))\n",
        "\n",
        "print('X_shape = ', X.shape, '\\ny.shape = ', y.shape)"
      ],
      "metadata": {
        "colab": {
          "base_uri": "https://localhost:8080/"
        },
        "id": "GyRvt8h5P29_",
        "outputId": "266bd121-df3c-409d-b0ad-515f9a01fcf0"
      },
      "execution_count": 2
    },
    {
      "cell_type": "code",
      "outputs": [
        {
          "output_type": "execute_result",
          "data": {
            "text/plain": [
              "          x_1       x_2 label\n",
              "0   -1.273999 -3.214410     m\n",
              "1   -1.235762 -3.997952     k\n",
              "2    1.854004  0.726989     m\n",
              "3    0.720732 -0.026282     k\n",
              "4    2.255234  0.253566     m\n",
              "..        ...       ...   ...\n",
              "195 -0.992109 -1.392891     k\n",
              "196  1.478505 -1.193195     k\n",
              "197 -1.255352  1.209983     m\n",
              "198 -0.863952 -0.306398     k\n",
              "199 -1.000547  1.642109     m\n",
              "\n",
              "[200 rows x 3 columns]"
            ],
            "text/html": [
              "\n",
              "  <div id=\"df-62ba8ba3-3530-4767-853c-9196165d1063\" class=\"colab-df-container\">\n",
              "    <div>\n",
              "<style scoped>\n",
              "    .dataframe tbody tr th:only-of-type {\n",
              "        vertical-align: middle;\n",
              "    }\n",
              "\n",
              "    .dataframe tbody tr th {\n",
              "        vertical-align: top;\n",
              "    }\n",
              "\n",
              "    .dataframe thead th {\n",
              "        text-align: right;\n",
              "    }\n",
              "</style>\n",
              "<table border=\"1\" class=\"dataframe\">\n",
              "  <thead>\n",
              "    <tr style=\"text-align: right;\">\n",
              "      <th></th>\n",
              "      <th>x_1</th>\n",
              "      <th>x_2</th>\n",
              "      <th>label</th>\n",
              "    </tr>\n",
              "  </thead>\n",
              "  <tbody>\n",
              "    <tr>\n",
              "      <th>0</th>\n",
              "      <td>-1.273999</td>\n",
              "      <td>-3.214410</td>\n",
              "      <td>m</td>\n",
              "    </tr>\n",
              "    <tr>\n",
              "      <th>1</th>\n",
              "      <td>-1.235762</td>\n",
              "      <td>-3.997952</td>\n",
              "      <td>k</td>\n",
              "    </tr>\n",
              "    <tr>\n",
              "      <th>2</th>\n",
              "      <td>1.854004</td>\n",
              "      <td>0.726989</td>\n",
              "      <td>m</td>\n",
              "    </tr>\n",
              "    <tr>\n",
              "      <th>3</th>\n",
              "      <td>0.720732</td>\n",
              "      <td>-0.026282</td>\n",
              "      <td>k</td>\n",
              "    </tr>\n",
              "    <tr>\n",
              "      <th>4</th>\n",
              "      <td>2.255234</td>\n",
              "      <td>0.253566</td>\n",
              "      <td>m</td>\n",
              "    </tr>\n",
              "    <tr>\n",
              "      <th>...</th>\n",
              "      <td>...</td>\n",
              "      <td>...</td>\n",
              "      <td>...</td>\n",
              "    </tr>\n",
              "    <tr>\n",
              "      <th>195</th>\n",
              "      <td>-0.992109</td>\n",
              "      <td>-1.392891</td>\n",
              "      <td>k</td>\n",
              "    </tr>\n",
              "    <tr>\n",
              "      <th>196</th>\n",
              "      <td>1.478505</td>\n",
              "      <td>-1.193195</td>\n",
              "      <td>k</td>\n",
              "    </tr>\n",
              "    <tr>\n",
              "      <th>197</th>\n",
              "      <td>-1.255352</td>\n",
              "      <td>1.209983</td>\n",
              "      <td>m</td>\n",
              "    </tr>\n",
              "    <tr>\n",
              "      <th>198</th>\n",
              "      <td>-0.863952</td>\n",
              "      <td>-0.306398</td>\n",
              "      <td>k</td>\n",
              "    </tr>\n",
              "    <tr>\n",
              "      <th>199</th>\n",
              "      <td>-1.000547</td>\n",
              "      <td>1.642109</td>\n",
              "      <td>m</td>\n",
              "    </tr>\n",
              "  </tbody>\n",
              "</table>\n",
              "<p>200 rows × 3 columns</p>\n",
              "</div>\n",
              "    <div class=\"colab-df-buttons\">\n",
              "\n",
              "  <div class=\"colab-df-container\">\n",
              "    <button class=\"colab-df-convert\" onclick=\"convertToInteractive('df-62ba8ba3-3530-4767-853c-9196165d1063')\"\n",
              "            title=\"Convert this dataframe to an interactive table.\"\n",
              "            style=\"display:none;\">\n",
              "\n",
              "  <svg xmlns=\"http://www.w3.org/2000/svg\" height=\"24px\" viewBox=\"0 -960 960 960\">\n",
              "    <path d=\"M120-120v-720h720v720H120Zm60-500h600v-160H180v160Zm220 220h160v-160H400v160Zm0 220h160v-160H400v160ZM180-400h160v-160H180v160Zm440 0h160v-160H620v160ZM180-180h160v-160H180v160Zm440 0h160v-160H620v160Z\"/>\n",
              "  </svg>\n",
              "    </button>\n",
              "\n",
              "  <style>\n",
              "    .colab-df-container {\n",
              "      display:flex;\n",
              "      gap: 12px;\n",
              "    }\n",
              "\n",
              "    .colab-df-convert {\n",
              "      background-color: #E8F0FE;\n",
              "      border: none;\n",
              "      border-radius: 50%;\n",
              "      cursor: pointer;\n",
              "      display: none;\n",
              "      fill: #1967D2;\n",
              "      height: 32px;\n",
              "      padding: 0 0 0 0;\n",
              "      width: 32px;\n",
              "    }\n",
              "\n",
              "    .colab-df-convert:hover {\n",
              "      background-color: #E2EBFA;\n",
              "      box-shadow: 0px 1px 2px rgba(60, 64, 67, 0.3), 0px 1px 3px 1px rgba(60, 64, 67, 0.15);\n",
              "      fill: #174EA6;\n",
              "    }\n",
              "\n",
              "    .colab-df-buttons div {\n",
              "      margin-bottom: 4px;\n",
              "    }\n",
              "\n",
              "    [theme=dark] .colab-df-convert {\n",
              "      background-color: #3B4455;\n",
              "      fill: #D2E3FC;\n",
              "    }\n",
              "\n",
              "    [theme=dark] .colab-df-convert:hover {\n",
              "      background-color: #434B5C;\n",
              "      box-shadow: 0px 1px 3px 1px rgba(0, 0, 0, 0.15);\n",
              "      filter: drop-shadow(0px 1px 2px rgba(0, 0, 0, 0.3));\n",
              "      fill: #FFFFFF;\n",
              "    }\n",
              "  </style>\n",
              "\n",
              "    <script>\n",
              "      const buttonEl =\n",
              "        document.querySelector('#df-62ba8ba3-3530-4767-853c-9196165d1063 button.colab-df-convert');\n",
              "      buttonEl.style.display =\n",
              "        google.colab.kernel.accessAllowed ? 'block' : 'none';\n",
              "\n",
              "      async function convertToInteractive(key) {\n",
              "        const element = document.querySelector('#df-62ba8ba3-3530-4767-853c-9196165d1063');\n",
              "        const dataTable =\n",
              "          await google.colab.kernel.invokeFunction('convertToInteractive',\n",
              "                                                    [key], {});\n",
              "        if (!dataTable) return;\n",
              "\n",
              "        const docLinkHtml = 'Like what you see? Visit the ' +\n",
              "          '<a target=\"_blank\" href=https://colab.research.google.com/notebooks/data_table.ipynb>data table notebook</a>'\n",
              "          + ' to learn more about interactive tables.';\n",
              "        element.innerHTML = '';\n",
              "        dataTable['output_type'] = 'display_data';\n",
              "        await google.colab.output.renderOutput(dataTable, element);\n",
              "        const docLink = document.createElement('div');\n",
              "        docLink.innerHTML = docLinkHtml;\n",
              "        element.appendChild(docLink);\n",
              "      }\n",
              "    </script>\n",
              "  </div>\n",
              "\n",
              "\n",
              "<div id=\"df-074383d2-cb8f-4e5c-82de-583b304c1f39\">\n",
              "  <button class=\"colab-df-quickchart\" onclick=\"quickchart('df-074383d2-cb8f-4e5c-82de-583b304c1f39')\"\n",
              "            title=\"Suggest charts\"\n",
              "            style=\"display:none;\">\n",
              "\n",
              "<svg xmlns=\"http://www.w3.org/2000/svg\" height=\"24px\"viewBox=\"0 0 24 24\"\n",
              "     width=\"24px\">\n",
              "    <g>\n",
              "        <path d=\"M19 3H5c-1.1 0-2 .9-2 2v14c0 1.1.9 2 2 2h14c1.1 0 2-.9 2-2V5c0-1.1-.9-2-2-2zM9 17H7v-7h2v7zm4 0h-2V7h2v10zm4 0h-2v-4h2v4z\"/>\n",
              "    </g>\n",
              "</svg>\n",
              "  </button>\n",
              "\n",
              "<style>\n",
              "  .colab-df-quickchart {\n",
              "      --bg-color: #E8F0FE;\n",
              "      --fill-color: #1967D2;\n",
              "      --hover-bg-color: #E2EBFA;\n",
              "      --hover-fill-color: #174EA6;\n",
              "      --disabled-fill-color: #AAA;\n",
              "      --disabled-bg-color: #DDD;\n",
              "  }\n",
              "\n",
              "  [theme=dark] .colab-df-quickchart {\n",
              "      --bg-color: #3B4455;\n",
              "      --fill-color: #D2E3FC;\n",
              "      --hover-bg-color: #434B5C;\n",
              "      --hover-fill-color: #FFFFFF;\n",
              "      --disabled-bg-color: #3B4455;\n",
              "      --disabled-fill-color: #666;\n",
              "  }\n",
              "\n",
              "  .colab-df-quickchart {\n",
              "    background-color: var(--bg-color);\n",
              "    border: none;\n",
              "    border-radius: 50%;\n",
              "    cursor: pointer;\n",
              "    display: none;\n",
              "    fill: var(--fill-color);\n",
              "    height: 32px;\n",
              "    padding: 0;\n",
              "    width: 32px;\n",
              "  }\n",
              "\n",
              "  .colab-df-quickchart:hover {\n",
              "    background-color: var(--hover-bg-color);\n",
              "    box-shadow: 0 1px 2px rgba(60, 64, 67, 0.3), 0 1px 3px 1px rgba(60, 64, 67, 0.15);\n",
              "    fill: var(--button-hover-fill-color);\n",
              "  }\n",
              "\n",
              "  .colab-df-quickchart-complete:disabled,\n",
              "  .colab-df-quickchart-complete:disabled:hover {\n",
              "    background-color: var(--disabled-bg-color);\n",
              "    fill: var(--disabled-fill-color);\n",
              "    box-shadow: none;\n",
              "  }\n",
              "\n",
              "  .colab-df-spinner {\n",
              "    border: 2px solid var(--fill-color);\n",
              "    border-color: transparent;\n",
              "    border-bottom-color: var(--fill-color);\n",
              "    animation:\n",
              "      spin 1s steps(1) infinite;\n",
              "  }\n",
              "\n",
              "  @keyframes spin {\n",
              "    0% {\n",
              "      border-color: transparent;\n",
              "      border-bottom-color: var(--fill-color);\n",
              "      border-left-color: var(--fill-color);\n",
              "    }\n",
              "    20% {\n",
              "      border-color: transparent;\n",
              "      border-left-color: var(--fill-color);\n",
              "      border-top-color: var(--fill-color);\n",
              "    }\n",
              "    30% {\n",
              "      border-color: transparent;\n",
              "      border-left-color: var(--fill-color);\n",
              "      border-top-color: var(--fill-color);\n",
              "      border-right-color: var(--fill-color);\n",
              "    }\n",
              "    40% {\n",
              "      border-color: transparent;\n",
              "      border-right-color: var(--fill-color);\n",
              "      border-top-color: var(--fill-color);\n",
              "    }\n",
              "    60% {\n",
              "      border-color: transparent;\n",
              "      border-right-color: var(--fill-color);\n",
              "    }\n",
              "    80% {\n",
              "      border-color: transparent;\n",
              "      border-right-color: var(--fill-color);\n",
              "      border-bottom-color: var(--fill-color);\n",
              "    }\n",
              "    90% {\n",
              "      border-color: transparent;\n",
              "      border-bottom-color: var(--fill-color);\n",
              "    }\n",
              "  }\n",
              "</style>\n",
              "\n",
              "  <script>\n",
              "    async function quickchart(key) {\n",
              "      const quickchartButtonEl =\n",
              "        document.querySelector('#' + key + ' button');\n",
              "      quickchartButtonEl.disabled = true;  // To prevent multiple clicks.\n",
              "      quickchartButtonEl.classList.add('colab-df-spinner');\n",
              "      try {\n",
              "        const charts = await google.colab.kernel.invokeFunction(\n",
              "            'suggestCharts', [key], {});\n",
              "      } catch (error) {\n",
              "        console.error('Error during call to suggestCharts:', error);\n",
              "      }\n",
              "      quickchartButtonEl.classList.remove('colab-df-spinner');\n",
              "      quickchartButtonEl.classList.add('colab-df-quickchart-complete');\n",
              "    }\n",
              "    (() => {\n",
              "      let quickchartButtonEl =\n",
              "        document.querySelector('#df-074383d2-cb8f-4e5c-82de-583b304c1f39 button');\n",
              "      quickchartButtonEl.style.display =\n",
              "        google.colab.kernel.accessAllowed ? 'block' : 'none';\n",
              "    })();\n",
              "  </script>\n",
              "</div>\n",
              "    </div>\n",
              "  </div>\n"
            ],
            "application/vnd.google.colaboratory.intrinsic+json": {
              "type": "dataframe",
              "variable_name": "df",
              "summary": "{\n  \"name\": \"df\",\n  \"rows\": 200,\n  \"fields\": [\n    {\n      \"column\": \"x_1\",\n      \"properties\": {\n        \"dtype\": \"number\",\n        \"std\": 1.2468863570097166,\n        \"min\": -3.514424081099924,\n        \"max\": 3.0099665658626984,\n        \"num_unique_values\": 200,\n        \"samples\": [\n          -1.2241935221674343,\n          -1.1718391908547918,\n          -0.8699954125621665\n        ],\n        \"semantic_type\": \"\",\n        \"description\": \"\"\n      }\n    },\n    {\n      \"column\": \"x_2\",\n      \"properties\": {\n        \"dtype\": \"number\",\n        \"std\": 1.4329422176555466,\n        \"min\": -3.9979524082807476,\n        \"max\": 3.028305882092936,\n        \"num_unique_values\": 200,\n        \"samples\": [\n          -1.9884890505966122,\n          -1.722394419808094,\n          -0.2336338426030632\n        ],\n        \"semantic_type\": \"\",\n        \"description\": \"\"\n      }\n    },\n    {\n      \"column\": \"label\",\n      \"properties\": {\n        \"dtype\": \"category\",\n        \"num_unique_values\": 2,\n        \"samples\": [\n          \"k\",\n          \"m\"\n        ],\n        \"semantic_type\": \"\",\n        \"description\": \"\"\n      }\n    }\n  ]\n}"
            }
          },
          "metadata": {},
          "execution_count": 3
        }
      ],
      "source": [
        "import pandas as pd\n",
        "df = pd.DataFrame(\n",
        "    {\n",
        "        'x_1': X[:, 0],\n",
        "        'x_2': X[:, 1],\n",
        "        'label': ['m' if y_i> 0 else 'k' for y_i in y]\n",
        "\n",
        "    },\n",
        "    index = list(range(N))\n",
        ")\n",
        "df"
      ],
      "metadata": {
        "colab": {
          "base_uri": "https://localhost:8080/",
          "height": 424
        },
        "id": "pH1Glk0vP2-C",
        "outputId": "c7af829a-52dc-4b69-f5ae-737638f26481"
      },
      "execution_count": 3
    },
    {
      "cell_type": "code",
      "outputs": [
        {
          "output_type": "display_data",
          "data": {
            "text/html": [
              "<html>\n",
              "<head><meta charset=\"utf-8\" /></head>\n",
              "<body>\n",
              "    <div>            <script src=\"https://cdnjs.cloudflare.com/ajax/libs/mathjax/2.7.5/MathJax.js?config=TeX-AMS-MML_SVG\"></script><script type=\"text/javascript\">if (window.MathJax && window.MathJax.Hub && window.MathJax.Hub.Config) {window.MathJax.Hub.Config({SVG: {font: \"STIX-Web\"}});}</script>                <script type=\"text/javascript\">window.PlotlyConfig = {MathJaxConfig: 'local'};</script>\n",
              "        <script charset=\"utf-8\" src=\"https://cdn.plot.ly/plotly-2.24.1.min.js\"></script>                <div id=\"dade33c4-8334-43aa-b4d3-dcc21e089bca\" class=\"plotly-graph-div\" style=\"height:525px; width:100%;\"></div>            <script type=\"text/javascript\">                                    window.PLOTLYENV=window.PLOTLYENV || {};                                    if (document.getElementById(\"dade33c4-8334-43aa-b4d3-dcc21e089bca\")) {                    Plotly.newPlot(                        \"dade33c4-8334-43aa-b4d3-dcc21e089bca\",                        [{\"hovertemplate\":\"label=m\\u003cbr\\u003ex_1=%{x}\\u003cbr\\u003ex_2=%{y}\\u003cextra\\u003e\\u003c\\u002fextra\\u003e\",\"legendgroup\":\"m\",\"marker\":{\"color\":\"#636efa\",\"symbol\":\"circle\"},\"mode\":\"markers\",\"name\":\"m\",\"orientation\":\"v\",\"showlegend\":true,\"x\":[-1.273999143690053,1.8540044857347167,2.255233788553441,-0.44755349547936807,1.018745368813838,-1.6895630411213434,0.2551619550468095,1.0105126770539947,-0.6501610906848836,-1.438633554343513,1.8490295569010917,-1.2820535821187702,-0.36200257937718505,-2.057105475146656,0.5569654086565774,2.1213016885541958,1.9466848191622335,2.8185103207675497,-1.5700787003001926,1.4913528003763201,-1.5325646545187626,1.7845171909570485,-0.7679797888796192,1.3594467336443088,0.5249626112194795,-0.5334050514052477,-0.21822874150043892,-1.1247392727601089,0.24505683522420074,1.499953536350409,2.0560520206032424,0.8040721303621967,0.7227314267652309,-3.514424081099924,2.024699792458213,0.272320485936954,0.3382657680580967,-2.5627001472762205,0.36542982835443216,-1.417112963896328,0.1873413817783096,1.6797790552913683,1.7771497956549749,0.9947169618942434,-0.5517360272679324,0.552321270172164,-1.5078920086428549,2.5697850737000314,0.40402194723449114,0.5834117790947564,1.714756478728417,0.2429743823362348,-2.276815099249733,-1.6950776721590923,-0.8156660893685442,-0.16252468442662527,0.7652471228243293,1.2518494434404626,0.5499759961500341,-0.42980608628404926,-0.8917525949913199,-0.8735041268136643,-1.1376464032347882,-0.8525129210657961,-1.1877744704791398,1.8490565228937434,3.0099665658626984,0.8881460935620807,0.09987337536450891,1.522712620097631,-0.11762749178685872,1.2646271837575007,-0.9380545682992099,-0.5980467029282812,-2.0271345700289976,0.08702098176365403,1.3502675070007084,0.5081619621254985,0.36974079662912573,-1.2150835541023115,-0.20290110561553942,-0.17170916141586323,0.8443876258695892,1.740229020734938,-0.17924558703971172,-1.657702178319866,0.8506435915044218,0.23719596545561883,2.202024123998413,0.35317355197226474,-1.199797954392338,-1.091209522963344,0.9513021663786202,-1.7535359456144497,-1.7595142630164546,-2.1316654913388398,1.1817702605181568,-0.41421860496417817,0.04682031637839734,0.26496275481300047,-1.2553515468862269,-1.0005466419908657],\"xaxis\":\"x\",\"y\":[-3.2144101373598155,0.7269894872108147,0.2535664348405967,1.1887468284835632,1.021725431224121,0.48082829631362467,1.5632898538439737,-0.7761260954273641,2.7974727464948828,0.3738355534444625,0.21037270049915513,0.4694099154602861,1.5113251206944556,0.10216446155525938,1.5314602093359055,0.2921287951558851,0.5152494188986921,0.1814137483184617,0.9939430714237346,-0.3026301870576915,0.9293758877408322,0.5137865556315726,3.028305882092936,0.16814711138138017,1.061687026909314,1.2105253713706563,1.4512241177050318,0.8087196836035624,1.7569956496140224,0.8012806835952787,0.8553420199106914,1.0873830514682867,1.680777443195102,-1.0140125588324604,0.145575965088091,1.0488020617159326,1.4579732027714853,-0.30497103946360715,1.2775246137450578,-0.1095310244267218,1.4781332031251675,2.820244303975252,0.13742403047880059,1.3193026499232507,1.6019043619706128,1.3057683783046876,1.0116286486696442,-0.00809430981190351,1.5583222224719426,1.5866097764180838,0.5756111338262448,1.7915539508434637,0.10166353868343492,2.719375399789728,1.0028682525195711,1.6660018215512657,0.9683402919630296,0.6390178620362037,2.1335959981334236,1.020562025960116,0.9942555469137359,0.8715192370849554,0.9759460854881572,0.9531602792370331,0.8264836505901175,0.9628101642160563,-0.3927010555794692,0.8709150677778985,1.5400605768466198,1.2500727724245686,1.8990395660811208,2.251812878793557,1.4670182125740956,1.4622480675588214,0.012236050689505729,1.5157572911738415,0.8953397549560504,1.991881008501358,1.2433801357589154,0.8830711710906352,1.5920564573726164,1.3576605299725895,1.1454060458641862,2.9524916060716526,1.5528749818498844,0.4833346366830934,1.1575650016805392,1.0931676009423081,0.38386288019767023,1.5786770455600765,0.8786312883040523,0.648865305394116,0.7640852666329637,0.37280185990649517,0.17920693734556303,-0.1826441759091355,0.5174164384399259,1.299560500525393,0.9890230017163302,1.7666726082343904,1.2099828922281062,1.642109199131336],\"yaxis\":\"y\",\"type\":\"scatter\"},{\"hovertemplate\":\"label=k\\u003cbr\\u003ex_1=%{x}\\u003cbr\\u003ex_2=%{y}\\u003cextra\\u003e\\u003c\\u002fextra\\u003e\",\"legendgroup\":\"k\",\"marker\":{\"color\":\"#EF553B\",\"symbol\":\"circle\"},\"mode\":\"markers\",\"name\":\"k\",\"orientation\":\"v\",\"showlegend\":true,\"x\":[-1.2357623666647777,0.7207319625121981,0.04854688598765278,-1.006911454325123,-1.1718391908547918,-0.2771501019881173,-0.9248559929564053,0.8823454327213786,1.2061134223313588,0.9005356011453814,-1.0384032276563124,-0.9351792340061873,-0.8699954125621665,0.25355621588673627,-1.1456734035832459,-0.8356220645904134,0.009245162203309953,-1.0824187466895963,-1.114387120845623,2.028956502721556,0.05157200785618099,-1.062439470807042,1.1216700890472102,2.4075576595803945,-1.0881590602455393,-0.8834765053466817,-1.041300162959552,0.4418972305618506,2.1348753764782242,1.4082402753442411,1.456382222059246,0.26924996487285613,0.8411027940739737,1.5755283170128411,-0.8039831591451785,1.4727494557378642,-0.928215805917026,-1.036849132436352,-0.9249775418274133,1.2255500842339937,-1.112440011835457,0.8400045292225757,1.5376270602418787,-0.7420116264466012,1.031401017777751,-0.7890491637988525,-1.2241935221674343,2.2604543202453824,1.3150777836451712,-0.3303507205593095,-1.1046095546112351,2.176478023167797,1.648907803972648,0.3410526919062584,-1.1262699563978082,-0.8364044564156181,-0.18646050482152843,-1.2925973822401444,-1.0665796222940518,0.9161640067056432,-0.9721071173843532,-0.09465561660507782,-0.9729553386318198,-0.9081380315866836,-0.8799584896371366,-0.9756266759012262,-0.8946421002872241,-1.1089943452154274,-1.137021221931724,-0.6956964474872891,1.9191385943917134,0.8591340373950658,0.42580126171285315,-1.1307147952179826,1.1575164974548098,1.6898412324806453,-1.0273199872611067,-0.8319258870689361,1.9793022834535878,-1.0093397002161186,-0.6965361697623691,-1.0928603519087825,-1.0247447003291497,1.164204303851094,1.0572638425644691,-0.934910400299853,1.6474289352650722,-0.8514959615173983,1.2091408300407969,-1.0226520467562852,-1.0231351921655842,0.2868662096250555,-1.132834759721709,-0.9159659798654765,-0.8945436774335179,-0.9921089294896663,1.4785049425487626,-0.8639515296025424],\"xaxis\":\"x\",\"y\":[-3.9979524082807476,-0.026282436328033953,-2.170248902062052,-0.7329888801300424,-1.722394419808094,-0.7237126827273639,0.09684717056443515,-1.4023738935944612,0.11151019522765937,-2.9490969460815983,-1.5452413487834198,-0.2988110219830955,-0.2336338426030632,-1.341392119013252,-1.3926707293512832,0.042897990462331226,-0.15154282344683023,-0.9442107358647719,-3.8092759562143668,0.4724548913816835,-0.604688585413576,-2.2653488878106773,-0.476727161538521,-1.5581052199393046,-1.665913016245788,-0.39262703422620926,-2.891368488128583,-2.0724059081116843,0.21579029492016044,1.3177889086945989,-1.417983576199638,-1.8902130433818218,-1.4944329924568174,-0.8740328857635304,-1.653796639714096,-1.2048465328376325,-1.5960134868433213,-1.054816787048605,-0.2812876711968264,-0.6624887719286565,-2.8303342168176107,-1.2403319649379514,0.5747172318396416,-0.2262440560715353,-0.16822223357262245,1.1675363154121472,-1.9884890505966122,0.22687373964868862,0.6843531510144225,-3.1759966673085223,-1.3904377709116553,1.7760611691357941,-0.6211664327889015,-0.6158430899870696,-0.5617080469269911,-0.6207525016403348,-1.9791279144015543,-3.8495937893716903,-1.1718089928476991,-3.4272399495882273,-0.18858193619759978,-3.1233626442464892,-1.198670472123419,-0.4649750544599487,0.8533093290618752,-1.010769901524065,-1.0873070205207496,-0.07226361618127741,-1.8497459151271096,0.9624159453249714,-0.434558229299537,-1.1694773007156354,-2.478807902478135,-1.7599835089626168,-0.26377117101487746,-1.532272499686469,-0.5758966844265707,-1.3425744491932798,0.1845504257870434,-0.04022931340191227,-2.1734521767309936,-0.6037980919593833,-2.664517819874825,-2.428479696709386,-0.31677961479175176,-0.7139802019863397,-0.8687232792127711,0.7355139929039125,-2.5528118821299035,-1.6298487437150548,-1.4553051548773979,-0.7810397147523469,-1.7570649770943991,-0.4484316550363968,0.02180246992899093,-1.3928912333336916,-1.1931951162734105,-0.3063977942904652],\"yaxis\":\"y\",\"type\":\"scatter\"}],                        {\"template\":{\"data\":{\"histogram2dcontour\":[{\"type\":\"histogram2dcontour\",\"colorbar\":{\"outlinewidth\":0,\"ticks\":\"\"},\"colorscale\":[[0.0,\"#0d0887\"],[0.1111111111111111,\"#46039f\"],[0.2222222222222222,\"#7201a8\"],[0.3333333333333333,\"#9c179e\"],[0.4444444444444444,\"#bd3786\"],[0.5555555555555556,\"#d8576b\"],[0.6666666666666666,\"#ed7953\"],[0.7777777777777778,\"#fb9f3a\"],[0.8888888888888888,\"#fdca26\"],[1.0,\"#f0f921\"]]}],\"choropleth\":[{\"type\":\"choropleth\",\"colorbar\":{\"outlinewidth\":0,\"ticks\":\"\"}}],\"histogram2d\":[{\"type\":\"histogram2d\",\"colorbar\":{\"outlinewidth\":0,\"ticks\":\"\"},\"colorscale\":[[0.0,\"#0d0887\"],[0.1111111111111111,\"#46039f\"],[0.2222222222222222,\"#7201a8\"],[0.3333333333333333,\"#9c179e\"],[0.4444444444444444,\"#bd3786\"],[0.5555555555555556,\"#d8576b\"],[0.6666666666666666,\"#ed7953\"],[0.7777777777777778,\"#fb9f3a\"],[0.8888888888888888,\"#fdca26\"],[1.0,\"#f0f921\"]]}],\"heatmap\":[{\"type\":\"heatmap\",\"colorbar\":{\"outlinewidth\":0,\"ticks\":\"\"},\"colorscale\":[[0.0,\"#0d0887\"],[0.1111111111111111,\"#46039f\"],[0.2222222222222222,\"#7201a8\"],[0.3333333333333333,\"#9c179e\"],[0.4444444444444444,\"#bd3786\"],[0.5555555555555556,\"#d8576b\"],[0.6666666666666666,\"#ed7953\"],[0.7777777777777778,\"#fb9f3a\"],[0.8888888888888888,\"#fdca26\"],[1.0,\"#f0f921\"]]}],\"heatmapgl\":[{\"type\":\"heatmapgl\",\"colorbar\":{\"outlinewidth\":0,\"ticks\":\"\"},\"colorscale\":[[0.0,\"#0d0887\"],[0.1111111111111111,\"#46039f\"],[0.2222222222222222,\"#7201a8\"],[0.3333333333333333,\"#9c179e\"],[0.4444444444444444,\"#bd3786\"],[0.5555555555555556,\"#d8576b\"],[0.6666666666666666,\"#ed7953\"],[0.7777777777777778,\"#fb9f3a\"],[0.8888888888888888,\"#fdca26\"],[1.0,\"#f0f921\"]]}],\"contourcarpet\":[{\"type\":\"contourcarpet\",\"colorbar\":{\"outlinewidth\":0,\"ticks\":\"\"}}],\"contour\":[{\"type\":\"contour\",\"colorbar\":{\"outlinewidth\":0,\"ticks\":\"\"},\"colorscale\":[[0.0,\"#0d0887\"],[0.1111111111111111,\"#46039f\"],[0.2222222222222222,\"#7201a8\"],[0.3333333333333333,\"#9c179e\"],[0.4444444444444444,\"#bd3786\"],[0.5555555555555556,\"#d8576b\"],[0.6666666666666666,\"#ed7953\"],[0.7777777777777778,\"#fb9f3a\"],[0.8888888888888888,\"#fdca26\"],[1.0,\"#f0f921\"]]}],\"surface\":[{\"type\":\"surface\",\"colorbar\":{\"outlinewidth\":0,\"ticks\":\"\"},\"colorscale\":[[0.0,\"#0d0887\"],[0.1111111111111111,\"#46039f\"],[0.2222222222222222,\"#7201a8\"],[0.3333333333333333,\"#9c179e\"],[0.4444444444444444,\"#bd3786\"],[0.5555555555555556,\"#d8576b\"],[0.6666666666666666,\"#ed7953\"],[0.7777777777777778,\"#fb9f3a\"],[0.8888888888888888,\"#fdca26\"],[1.0,\"#f0f921\"]]}],\"mesh3d\":[{\"type\":\"mesh3d\",\"colorbar\":{\"outlinewidth\":0,\"ticks\":\"\"}}],\"scatter\":[{\"fillpattern\":{\"fillmode\":\"overlay\",\"size\":10,\"solidity\":0.2},\"type\":\"scatter\"}],\"parcoords\":[{\"type\":\"parcoords\",\"line\":{\"colorbar\":{\"outlinewidth\":0,\"ticks\":\"\"}}}],\"scatterpolargl\":[{\"type\":\"scatterpolargl\",\"marker\":{\"colorbar\":{\"outlinewidth\":0,\"ticks\":\"\"}}}],\"bar\":[{\"error_x\":{\"color\":\"#2a3f5f\"},\"error_y\":{\"color\":\"#2a3f5f\"},\"marker\":{\"line\":{\"color\":\"#E5ECF6\",\"width\":0.5},\"pattern\":{\"fillmode\":\"overlay\",\"size\":10,\"solidity\":0.2}},\"type\":\"bar\"}],\"scattergeo\":[{\"type\":\"scattergeo\",\"marker\":{\"colorbar\":{\"outlinewidth\":0,\"ticks\":\"\"}}}],\"scatterpolar\":[{\"type\":\"scatterpolar\",\"marker\":{\"colorbar\":{\"outlinewidth\":0,\"ticks\":\"\"}}}],\"histogram\":[{\"marker\":{\"pattern\":{\"fillmode\":\"overlay\",\"size\":10,\"solidity\":0.2}},\"type\":\"histogram\"}],\"scattergl\":[{\"type\":\"scattergl\",\"marker\":{\"colorbar\":{\"outlinewidth\":0,\"ticks\":\"\"}}}],\"scatter3d\":[{\"type\":\"scatter3d\",\"line\":{\"colorbar\":{\"outlinewidth\":0,\"ticks\":\"\"}},\"marker\":{\"colorbar\":{\"outlinewidth\":0,\"ticks\":\"\"}}}],\"scattermapbox\":[{\"type\":\"scattermapbox\",\"marker\":{\"colorbar\":{\"outlinewidth\":0,\"ticks\":\"\"}}}],\"scatterternary\":[{\"type\":\"scatterternary\",\"marker\":{\"colorbar\":{\"outlinewidth\":0,\"ticks\":\"\"}}}],\"scattercarpet\":[{\"type\":\"scattercarpet\",\"marker\":{\"colorbar\":{\"outlinewidth\":0,\"ticks\":\"\"}}}],\"carpet\":[{\"aaxis\":{\"endlinecolor\":\"#2a3f5f\",\"gridcolor\":\"white\",\"linecolor\":\"white\",\"minorgridcolor\":\"white\",\"startlinecolor\":\"#2a3f5f\"},\"baxis\":{\"endlinecolor\":\"#2a3f5f\",\"gridcolor\":\"white\",\"linecolor\":\"white\",\"minorgridcolor\":\"white\",\"startlinecolor\":\"#2a3f5f\"},\"type\":\"carpet\"}],\"table\":[{\"cells\":{\"fill\":{\"color\":\"#EBF0F8\"},\"line\":{\"color\":\"white\"}},\"header\":{\"fill\":{\"color\":\"#C8D4E3\"},\"line\":{\"color\":\"white\"}},\"type\":\"table\"}],\"barpolar\":[{\"marker\":{\"line\":{\"color\":\"#E5ECF6\",\"width\":0.5},\"pattern\":{\"fillmode\":\"overlay\",\"size\":10,\"solidity\":0.2}},\"type\":\"barpolar\"}],\"pie\":[{\"automargin\":true,\"type\":\"pie\"}]},\"layout\":{\"autotypenumbers\":\"strict\",\"colorway\":[\"#636efa\",\"#EF553B\",\"#00cc96\",\"#ab63fa\",\"#FFA15A\",\"#19d3f3\",\"#FF6692\",\"#B6E880\",\"#FF97FF\",\"#FECB52\"],\"font\":{\"color\":\"#2a3f5f\"},\"hovermode\":\"closest\",\"hoverlabel\":{\"align\":\"left\"},\"paper_bgcolor\":\"white\",\"plot_bgcolor\":\"#E5ECF6\",\"polar\":{\"bgcolor\":\"#E5ECF6\",\"angularaxis\":{\"gridcolor\":\"white\",\"linecolor\":\"white\",\"ticks\":\"\"},\"radialaxis\":{\"gridcolor\":\"white\",\"linecolor\":\"white\",\"ticks\":\"\"}},\"ternary\":{\"bgcolor\":\"#E5ECF6\",\"aaxis\":{\"gridcolor\":\"white\",\"linecolor\":\"white\",\"ticks\":\"\"},\"baxis\":{\"gridcolor\":\"white\",\"linecolor\":\"white\",\"ticks\":\"\"},\"caxis\":{\"gridcolor\":\"white\",\"linecolor\":\"white\",\"ticks\":\"\"}},\"coloraxis\":{\"colorbar\":{\"outlinewidth\":0,\"ticks\":\"\"}},\"colorscale\":{\"sequential\":[[0.0,\"#0d0887\"],[0.1111111111111111,\"#46039f\"],[0.2222222222222222,\"#7201a8\"],[0.3333333333333333,\"#9c179e\"],[0.4444444444444444,\"#bd3786\"],[0.5555555555555556,\"#d8576b\"],[0.6666666666666666,\"#ed7953\"],[0.7777777777777778,\"#fb9f3a\"],[0.8888888888888888,\"#fdca26\"],[1.0,\"#f0f921\"]],\"sequentialminus\":[[0.0,\"#0d0887\"],[0.1111111111111111,\"#46039f\"],[0.2222222222222222,\"#7201a8\"],[0.3333333333333333,\"#9c179e\"],[0.4444444444444444,\"#bd3786\"],[0.5555555555555556,\"#d8576b\"],[0.6666666666666666,\"#ed7953\"],[0.7777777777777778,\"#fb9f3a\"],[0.8888888888888888,\"#fdca26\"],[1.0,\"#f0f921\"]],\"diverging\":[[0,\"#8e0152\"],[0.1,\"#c51b7d\"],[0.2,\"#de77ae\"],[0.3,\"#f1b6da\"],[0.4,\"#fde0ef\"],[0.5,\"#f7f7f7\"],[0.6,\"#e6f5d0\"],[0.7,\"#b8e186\"],[0.8,\"#7fbc41\"],[0.9,\"#4d9221\"],[1,\"#276419\"]]},\"xaxis\":{\"gridcolor\":\"white\",\"linecolor\":\"white\",\"ticks\":\"\",\"title\":{\"standoff\":15},\"zerolinecolor\":\"white\",\"automargin\":true,\"zerolinewidth\":2},\"yaxis\":{\"gridcolor\":\"white\",\"linecolor\":\"white\",\"ticks\":\"\",\"title\":{\"standoff\":15},\"zerolinecolor\":\"white\",\"automargin\":true,\"zerolinewidth\":2},\"scene\":{\"xaxis\":{\"backgroundcolor\":\"#E5ECF6\",\"gridcolor\":\"white\",\"linecolor\":\"white\",\"showbackground\":true,\"ticks\":\"\",\"zerolinecolor\":\"white\",\"gridwidth\":2},\"yaxis\":{\"backgroundcolor\":\"#E5ECF6\",\"gridcolor\":\"white\",\"linecolor\":\"white\",\"showbackground\":true,\"ticks\":\"\",\"zerolinecolor\":\"white\",\"gridwidth\":2},\"zaxis\":{\"backgroundcolor\":\"#E5ECF6\",\"gridcolor\":\"white\",\"linecolor\":\"white\",\"showbackground\":true,\"ticks\":\"\",\"zerolinecolor\":\"white\",\"gridwidth\":2}},\"shapedefaults\":{\"line\":{\"color\":\"#2a3f5f\"}},\"annotationdefaults\":{\"arrowcolor\":\"#2a3f5f\",\"arrowhead\":0,\"arrowwidth\":1},\"geo\":{\"bgcolor\":\"white\",\"landcolor\":\"#E5ECF6\",\"subunitcolor\":\"white\",\"showland\":true,\"showlakes\":true,\"lakecolor\":\"white\"},\"title\":{\"x\":0.05},\"mapbox\":{\"style\":\"light\"}}},\"xaxis\":{\"anchor\":\"y\",\"domain\":[0.0,1.0],\"title\":{\"text\":\"x_1\"}},\"yaxis\":{\"anchor\":\"x\",\"domain\":[0.0,1.0],\"title\":{\"text\":\"x_2\"}},\"legend\":{\"title\":{\"text\":\"label\"},\"tracegroupgap\":0},\"margin\":{\"t\":60}},                        {\"responsive\": true}                    ).then(function(){\n",
              "                            \n",
              "var gd = document.getElementById('dade33c4-8334-43aa-b4d3-dcc21e089bca');\n",
              "var x = new MutationObserver(function (mutations, observer) {{\n",
              "        var display = window.getComputedStyle(gd).display;\n",
              "        if (!display || display === 'none') {{\n",
              "            console.log([gd, 'removed!']);\n",
              "            Plotly.purge(gd);\n",
              "            observer.disconnect();\n",
              "        }}\n",
              "}});\n",
              "\n",
              "// Listen for the removal of the full notebook cells\n",
              "var notebookContainer = gd.closest('#notebook-container');\n",
              "if (notebookContainer) {{\n",
              "    x.observe(notebookContainer, {childList: true});\n",
              "}}\n",
              "\n",
              "// Listen for the clearing of the current output cell\n",
              "var outputEl = gd.closest('.output');\n",
              "if (outputEl) {{\n",
              "    x.observe(outputEl, {childList: true});\n",
              "}}\n",
              "\n",
              "                        })                };                            </script>        </div>\n",
              "</body>\n",
              "</html>"
            ]
          },
          "metadata": {}
        }
      ],
      "source": [
        "import plotly.express as px\n",
        "px.scatter(df, x='x_1', y='x_2', color='label')"
      ],
      "metadata": {
        "colab": {
          "base_uri": "https://localhost:8080/",
          "height": 542
        },
        "id": "HoU_be9VP2-C",
        "outputId": "c5562366-7de0-484b-b4d9-d55d7076d732"
      },
      "execution_count": 4
    },
    {
      "cell_type": "code",
      "outputs": [],
      "source": [
        "def sigmoid(x):\n",
        "    return 1/(1+np.exp(-x))\n"
      ],
      "metadata": {
        "id": "nOIjJi7kP2-D"
      },
      "execution_count": 5
    },
    {
      "cell_type": "code",
      "outputs": [],
      "source": [
        "w = np.array([1,2])\n",
        "b= 1\n",
        "w = np.reshape(w, (D,1))\n",
        "\n",
        "def model(x,w,b):\n",
        "    logits = np.matmul(x,w) + b\n",
        "    return sigmoid(logits)"
      ],
      "metadata": {
        "id": "aeYvgjaAP2-D"
      },
      "execution_count": 6
    },
    {
      "cell_type": "code",
      "outputs": [
        {
          "output_type": "execute_result",
          "data": {
            "text/plain": [
              "(200, 1)"
            ]
          },
          "metadata": {},
          "execution_count": 7
        }
      ],
      "source": [
        "y_pred = model(X, w, b)\n",
        "y_pred.shape"
      ],
      "metadata": {
        "colab": {
          "base_uri": "https://localhost:8080/"
        },
        "id": "zG__7AraP2-D",
        "outputId": "7985cd8f-391c-4c2d-a9aa-cd1d35b43eaf"
      },
      "execution_count": 7
    },
    {
      "cell_type": "code",
      "outputs": [],
      "source": [
        "y_pred_class = np.where(y_pred>0.5, 1, 0)"
      ],
      "metadata": {
        "id": "PkJPVDbYP2-E"
      },
      "execution_count": 8
    },
    {
      "cell_type": "code",
      "outputs": [
        {
          "output_type": "display_data",
          "data": {
            "text/html": [
              "<html>\n",
              "<head><meta charset=\"utf-8\" /></head>\n",
              "<body>\n",
              "    <div>            <script src=\"https://cdnjs.cloudflare.com/ajax/libs/mathjax/2.7.5/MathJax.js?config=TeX-AMS-MML_SVG\"></script><script type=\"text/javascript\">if (window.MathJax && window.MathJax.Hub && window.MathJax.Hub.Config) {window.MathJax.Hub.Config({SVG: {font: \"STIX-Web\"}});}</script>                <script type=\"text/javascript\">window.PlotlyConfig = {MathJaxConfig: 'local'};</script>\n",
              "        <script charset=\"utf-8\" src=\"https://cdn.plot.ly/plotly-2.24.1.min.js\"></script>                <div id=\"4a015ad1-d364-4f28-ba66-149a506f1013\" class=\"plotly-graph-div\" style=\"height:525px; width:100%;\"></div>            <script type=\"text/javascript\">                                    window.PLOTLYENV=window.PLOTLYENV || {};                                    if (document.getElementById(\"4a015ad1-d364-4f28-ba66-149a506f1013\")) {                    Plotly.newPlot(                        \"4a015ad1-d364-4f28-ba66-149a506f1013\",                        [{\"hovertemplate\":\"label=m\\u003cbr\\u003ex_1=%{x}\\u003cbr\\u003ex_2=%{y}\\u003cextra\\u003e\\u003c\\u002fextra\\u003e\",\"legendgroup\":\"m\",\"marker\":{\"color\":\"#636efa\",\"symbol\":\"circle\"},\"mode\":\"markers\",\"name\":\"m\",\"orientation\":\"v\",\"showlegend\":true,\"x\":[-1.273999143690053,1.8540044857347167,2.255233788553441,-0.44755349547936807,1.018745368813838,-1.6895630411213434,0.2551619550468095,1.0105126770539947,-0.6501610906848836,-1.438633554343513,1.8490295569010917,-1.2820535821187702,-0.36200257937718505,-2.057105475146656,0.5569654086565774,2.1213016885541958,1.9466848191622335,2.8185103207675497,-1.5700787003001926,1.4913528003763201,-1.5325646545187626,1.7845171909570485,-0.7679797888796192,1.3594467336443088,0.5249626112194795,-0.5334050514052477,-0.21822874150043892,-1.1247392727601089,0.24505683522420074,1.499953536350409,2.0560520206032424,0.8040721303621967,0.7227314267652309,-3.514424081099924,2.024699792458213,0.272320485936954,0.3382657680580967,-2.5627001472762205,0.36542982835443216,-1.417112963896328,0.1873413817783096,1.6797790552913683,1.7771497956549749,0.9947169618942434,-0.5517360272679324,0.552321270172164,-1.5078920086428549,2.5697850737000314,0.40402194723449114,0.5834117790947564,1.714756478728417,0.2429743823362348,-2.276815099249733,-1.6950776721590923,-0.8156660893685442,-0.16252468442662527,0.7652471228243293,1.2518494434404626,0.5499759961500341,-0.42980608628404926,-0.8917525949913199,-0.8735041268136643,-1.1376464032347882,-0.8525129210657961,-1.1877744704791398,1.8490565228937434,3.0099665658626984,0.8881460935620807,0.09987337536450891,1.522712620097631,-0.11762749178685872,1.2646271837575007,-0.9380545682992099,-0.5980467029282812,-2.0271345700289976,0.08702098176365403,1.3502675070007084,0.5081619621254985,0.36974079662912573,-1.2150835541023115,-0.20290110561553942,-0.17170916141586323,0.8443876258695892,1.740229020734938,-0.17924558703971172,-1.657702178319866,0.8506435915044218,0.23719596545561883,2.202024123998413,0.35317355197226474,-1.199797954392338,-1.091209522963344,0.9513021663786202,-1.7535359456144497,-1.7595142630164546,-2.1316654913388398,1.1817702605181568,-0.41421860496417817,0.04682031637839734,0.26496275481300047,-1.2553515468862269,-1.0005466419908657],\"xaxis\":\"x\",\"y\":[-3.2144101373598155,0.7269894872108147,0.2535664348405967,1.1887468284835632,1.021725431224121,0.48082829631362467,1.5632898538439737,-0.7761260954273641,2.7974727464948828,0.3738355534444625,0.21037270049915513,0.4694099154602861,1.5113251206944556,0.10216446155525938,1.5314602093359055,0.2921287951558851,0.5152494188986921,0.1814137483184617,0.9939430714237346,-0.3026301870576915,0.9293758877408322,0.5137865556315726,3.028305882092936,0.16814711138138017,1.061687026909314,1.2105253713706563,1.4512241177050318,0.8087196836035624,1.7569956496140224,0.8012806835952787,0.8553420199106914,1.0873830514682867,1.680777443195102,-1.0140125588324604,0.145575965088091,1.0488020617159326,1.4579732027714853,-0.30497103946360715,1.2775246137450578,-0.1095310244267218,1.4781332031251675,2.820244303975252,0.13742403047880059,1.3193026499232507,1.6019043619706128,1.3057683783046876,1.0116286486696442,-0.00809430981190351,1.5583222224719426,1.5866097764180838,0.5756111338262448,1.7915539508434637,0.10166353868343492,2.719375399789728,1.0028682525195711,1.6660018215512657,0.9683402919630296,0.6390178620362037,2.1335959981334236,1.020562025960116,0.9942555469137359,0.8715192370849554,0.9759460854881572,0.9531602792370331,0.8264836505901175,0.9628101642160563,-0.3927010555794692,0.8709150677778985,1.5400605768466198,1.2500727724245686,1.8990395660811208,2.251812878793557,1.4670182125740956,1.4622480675588214,0.012236050689505729,1.5157572911738415,0.8953397549560504,1.991881008501358,1.2433801357589154,0.8830711710906352,1.5920564573726164,1.3576605299725895,1.1454060458641862,2.9524916060716526,1.5528749818498844,0.4833346366830934,1.1575650016805392,1.0931676009423081,0.38386288019767023,1.5786770455600765,0.8786312883040523,0.648865305394116,0.7640852666329637,0.37280185990649517,0.17920693734556303,-0.1826441759091355,0.5174164384399259,1.299560500525393,0.9890230017163302,1.7666726082343904,1.2099828922281062,1.642109199131336],\"yaxis\":\"y\",\"type\":\"scatter\"},{\"hovertemplate\":\"label=k\\u003cbr\\u003ex_1=%{x}\\u003cbr\\u003ex_2=%{y}\\u003cextra\\u003e\\u003c\\u002fextra\\u003e\",\"legendgroup\":\"k\",\"marker\":{\"color\":\"#EF553B\",\"symbol\":\"circle\"},\"mode\":\"markers\",\"name\":\"k\",\"orientation\":\"v\",\"showlegend\":true,\"x\":[-1.2357623666647777,0.7207319625121981,0.04854688598765278,-1.006911454325123,-1.1718391908547918,-0.2771501019881173,-0.9248559929564053,0.8823454327213786,1.2061134223313588,0.9005356011453814,-1.0384032276563124,-0.9351792340061873,-0.8699954125621665,0.25355621588673627,-1.1456734035832459,-0.8356220645904134,0.009245162203309953,-1.0824187466895963,-1.114387120845623,2.028956502721556,0.05157200785618099,-1.062439470807042,1.1216700890472102,2.4075576595803945,-1.0881590602455393,-0.8834765053466817,-1.041300162959552,0.4418972305618506,2.1348753764782242,1.4082402753442411,1.456382222059246,0.26924996487285613,0.8411027940739737,1.5755283170128411,-0.8039831591451785,1.4727494557378642,-0.928215805917026,-1.036849132436352,-0.9249775418274133,1.2255500842339937,-1.112440011835457,0.8400045292225757,1.5376270602418787,-0.7420116264466012,1.031401017777751,-0.7890491637988525,-1.2241935221674343,2.2604543202453824,1.3150777836451712,-0.3303507205593095,-1.1046095546112351,2.176478023167797,1.648907803972648,0.3410526919062584,-1.1262699563978082,-0.8364044564156181,-0.18646050482152843,-1.2925973822401444,-1.0665796222940518,0.9161640067056432,-0.9721071173843532,-0.09465561660507782,-0.9729553386318198,-0.9081380315866836,-0.8799584896371366,-0.9756266759012262,-0.8946421002872241,-1.1089943452154274,-1.137021221931724,-0.6956964474872891,1.9191385943917134,0.8591340373950658,0.42580126171285315,-1.1307147952179826,1.1575164974548098,1.6898412324806453,-1.0273199872611067,-0.8319258870689361,1.9793022834535878,-1.0093397002161186,-0.6965361697623691,-1.0928603519087825,-1.0247447003291497,1.164204303851094,1.0572638425644691,-0.934910400299853,1.6474289352650722,-0.8514959615173983,1.2091408300407969,-1.0226520467562852,-1.0231351921655842,0.2868662096250555,-1.132834759721709,-0.9159659798654765,-0.8945436774335179,-0.9921089294896663,1.4785049425487626,-0.8639515296025424],\"xaxis\":\"x\",\"y\":[-3.9979524082807476,-0.026282436328033953,-2.170248902062052,-0.7329888801300424,-1.722394419808094,-0.7237126827273639,0.09684717056443515,-1.4023738935944612,0.11151019522765937,-2.9490969460815983,-1.5452413487834198,-0.2988110219830955,-0.2336338426030632,-1.341392119013252,-1.3926707293512832,0.042897990462331226,-0.15154282344683023,-0.9442107358647719,-3.8092759562143668,0.4724548913816835,-0.604688585413576,-2.2653488878106773,-0.476727161538521,-1.5581052199393046,-1.665913016245788,-0.39262703422620926,-2.891368488128583,-2.0724059081116843,0.21579029492016044,1.3177889086945989,-1.417983576199638,-1.8902130433818218,-1.4944329924568174,-0.8740328857635304,-1.653796639714096,-1.2048465328376325,-1.5960134868433213,-1.054816787048605,-0.2812876711968264,-0.6624887719286565,-2.8303342168176107,-1.2403319649379514,0.5747172318396416,-0.2262440560715353,-0.16822223357262245,1.1675363154121472,-1.9884890505966122,0.22687373964868862,0.6843531510144225,-3.1759966673085223,-1.3904377709116553,1.7760611691357941,-0.6211664327889015,-0.6158430899870696,-0.5617080469269911,-0.6207525016403348,-1.9791279144015543,-3.8495937893716903,-1.1718089928476991,-3.4272399495882273,-0.18858193619759978,-3.1233626442464892,-1.198670472123419,-0.4649750544599487,0.8533093290618752,-1.010769901524065,-1.0873070205207496,-0.07226361618127741,-1.8497459151271096,0.9624159453249714,-0.434558229299537,-1.1694773007156354,-2.478807902478135,-1.7599835089626168,-0.26377117101487746,-1.532272499686469,-0.5758966844265707,-1.3425744491932798,0.1845504257870434,-0.04022931340191227,-2.1734521767309936,-0.6037980919593833,-2.664517819874825,-2.428479696709386,-0.31677961479175176,-0.7139802019863397,-0.8687232792127711,0.7355139929039125,-2.5528118821299035,-1.6298487437150548,-1.4553051548773979,-0.7810397147523469,-1.7570649770943991,-0.4484316550363968,0.02180246992899093,-1.3928912333336916,-1.1931951162734105,-0.3063977942904652],\"yaxis\":\"y\",\"type\":\"scatter\"},{\"name\":\"brzeg\",\"x\":[-2,4],\"y\":[1.5,-1.5],\"type\":\"scatter\"}],                        {\"template\":{\"data\":{\"histogram2dcontour\":[{\"type\":\"histogram2dcontour\",\"colorbar\":{\"outlinewidth\":0,\"ticks\":\"\"},\"colorscale\":[[0.0,\"#0d0887\"],[0.1111111111111111,\"#46039f\"],[0.2222222222222222,\"#7201a8\"],[0.3333333333333333,\"#9c179e\"],[0.4444444444444444,\"#bd3786\"],[0.5555555555555556,\"#d8576b\"],[0.6666666666666666,\"#ed7953\"],[0.7777777777777778,\"#fb9f3a\"],[0.8888888888888888,\"#fdca26\"],[1.0,\"#f0f921\"]]}],\"choropleth\":[{\"type\":\"choropleth\",\"colorbar\":{\"outlinewidth\":0,\"ticks\":\"\"}}],\"histogram2d\":[{\"type\":\"histogram2d\",\"colorbar\":{\"outlinewidth\":0,\"ticks\":\"\"},\"colorscale\":[[0.0,\"#0d0887\"],[0.1111111111111111,\"#46039f\"],[0.2222222222222222,\"#7201a8\"],[0.3333333333333333,\"#9c179e\"],[0.4444444444444444,\"#bd3786\"],[0.5555555555555556,\"#d8576b\"],[0.6666666666666666,\"#ed7953\"],[0.7777777777777778,\"#fb9f3a\"],[0.8888888888888888,\"#fdca26\"],[1.0,\"#f0f921\"]]}],\"heatmap\":[{\"type\":\"heatmap\",\"colorbar\":{\"outlinewidth\":0,\"ticks\":\"\"},\"colorscale\":[[0.0,\"#0d0887\"],[0.1111111111111111,\"#46039f\"],[0.2222222222222222,\"#7201a8\"],[0.3333333333333333,\"#9c179e\"],[0.4444444444444444,\"#bd3786\"],[0.5555555555555556,\"#d8576b\"],[0.6666666666666666,\"#ed7953\"],[0.7777777777777778,\"#fb9f3a\"],[0.8888888888888888,\"#fdca26\"],[1.0,\"#f0f921\"]]}],\"heatmapgl\":[{\"type\":\"heatmapgl\",\"colorbar\":{\"outlinewidth\":0,\"ticks\":\"\"},\"colorscale\":[[0.0,\"#0d0887\"],[0.1111111111111111,\"#46039f\"],[0.2222222222222222,\"#7201a8\"],[0.3333333333333333,\"#9c179e\"],[0.4444444444444444,\"#bd3786\"],[0.5555555555555556,\"#d8576b\"],[0.6666666666666666,\"#ed7953\"],[0.7777777777777778,\"#fb9f3a\"],[0.8888888888888888,\"#fdca26\"],[1.0,\"#f0f921\"]]}],\"contourcarpet\":[{\"type\":\"contourcarpet\",\"colorbar\":{\"outlinewidth\":0,\"ticks\":\"\"}}],\"contour\":[{\"type\":\"contour\",\"colorbar\":{\"outlinewidth\":0,\"ticks\":\"\"},\"colorscale\":[[0.0,\"#0d0887\"],[0.1111111111111111,\"#46039f\"],[0.2222222222222222,\"#7201a8\"],[0.3333333333333333,\"#9c179e\"],[0.4444444444444444,\"#bd3786\"],[0.5555555555555556,\"#d8576b\"],[0.6666666666666666,\"#ed7953\"],[0.7777777777777778,\"#fb9f3a\"],[0.8888888888888888,\"#fdca26\"],[1.0,\"#f0f921\"]]}],\"surface\":[{\"type\":\"surface\",\"colorbar\":{\"outlinewidth\":0,\"ticks\":\"\"},\"colorscale\":[[0.0,\"#0d0887\"],[0.1111111111111111,\"#46039f\"],[0.2222222222222222,\"#7201a8\"],[0.3333333333333333,\"#9c179e\"],[0.4444444444444444,\"#bd3786\"],[0.5555555555555556,\"#d8576b\"],[0.6666666666666666,\"#ed7953\"],[0.7777777777777778,\"#fb9f3a\"],[0.8888888888888888,\"#fdca26\"],[1.0,\"#f0f921\"]]}],\"mesh3d\":[{\"type\":\"mesh3d\",\"colorbar\":{\"outlinewidth\":0,\"ticks\":\"\"}}],\"scatter\":[{\"fillpattern\":{\"fillmode\":\"overlay\",\"size\":10,\"solidity\":0.2},\"type\":\"scatter\"}],\"parcoords\":[{\"type\":\"parcoords\",\"line\":{\"colorbar\":{\"outlinewidth\":0,\"ticks\":\"\"}}}],\"scatterpolargl\":[{\"type\":\"scatterpolargl\",\"marker\":{\"colorbar\":{\"outlinewidth\":0,\"ticks\":\"\"}}}],\"bar\":[{\"error_x\":{\"color\":\"#2a3f5f\"},\"error_y\":{\"color\":\"#2a3f5f\"},\"marker\":{\"line\":{\"color\":\"#E5ECF6\",\"width\":0.5},\"pattern\":{\"fillmode\":\"overlay\",\"size\":10,\"solidity\":0.2}},\"type\":\"bar\"}],\"scattergeo\":[{\"type\":\"scattergeo\",\"marker\":{\"colorbar\":{\"outlinewidth\":0,\"ticks\":\"\"}}}],\"scatterpolar\":[{\"type\":\"scatterpolar\",\"marker\":{\"colorbar\":{\"outlinewidth\":0,\"ticks\":\"\"}}}],\"histogram\":[{\"marker\":{\"pattern\":{\"fillmode\":\"overlay\",\"size\":10,\"solidity\":0.2}},\"type\":\"histogram\"}],\"scattergl\":[{\"type\":\"scattergl\",\"marker\":{\"colorbar\":{\"outlinewidth\":0,\"ticks\":\"\"}}}],\"scatter3d\":[{\"type\":\"scatter3d\",\"line\":{\"colorbar\":{\"outlinewidth\":0,\"ticks\":\"\"}},\"marker\":{\"colorbar\":{\"outlinewidth\":0,\"ticks\":\"\"}}}],\"scattermapbox\":[{\"type\":\"scattermapbox\",\"marker\":{\"colorbar\":{\"outlinewidth\":0,\"ticks\":\"\"}}}],\"scatterternary\":[{\"type\":\"scatterternary\",\"marker\":{\"colorbar\":{\"outlinewidth\":0,\"ticks\":\"\"}}}],\"scattercarpet\":[{\"type\":\"scattercarpet\",\"marker\":{\"colorbar\":{\"outlinewidth\":0,\"ticks\":\"\"}}}],\"carpet\":[{\"aaxis\":{\"endlinecolor\":\"#2a3f5f\",\"gridcolor\":\"white\",\"linecolor\":\"white\",\"minorgridcolor\":\"white\",\"startlinecolor\":\"#2a3f5f\"},\"baxis\":{\"endlinecolor\":\"#2a3f5f\",\"gridcolor\":\"white\",\"linecolor\":\"white\",\"minorgridcolor\":\"white\",\"startlinecolor\":\"#2a3f5f\"},\"type\":\"carpet\"}],\"table\":[{\"cells\":{\"fill\":{\"color\":\"#EBF0F8\"},\"line\":{\"color\":\"white\"}},\"header\":{\"fill\":{\"color\":\"#C8D4E3\"},\"line\":{\"color\":\"white\"}},\"type\":\"table\"}],\"barpolar\":[{\"marker\":{\"line\":{\"color\":\"#E5ECF6\",\"width\":0.5},\"pattern\":{\"fillmode\":\"overlay\",\"size\":10,\"solidity\":0.2}},\"type\":\"barpolar\"}],\"pie\":[{\"automargin\":true,\"type\":\"pie\"}]},\"layout\":{\"autotypenumbers\":\"strict\",\"colorway\":[\"#636efa\",\"#EF553B\",\"#00cc96\",\"#ab63fa\",\"#FFA15A\",\"#19d3f3\",\"#FF6692\",\"#B6E880\",\"#FF97FF\",\"#FECB52\"],\"font\":{\"color\":\"#2a3f5f\"},\"hovermode\":\"closest\",\"hoverlabel\":{\"align\":\"left\"},\"paper_bgcolor\":\"white\",\"plot_bgcolor\":\"#E5ECF6\",\"polar\":{\"bgcolor\":\"#E5ECF6\",\"angularaxis\":{\"gridcolor\":\"white\",\"linecolor\":\"white\",\"ticks\":\"\"},\"radialaxis\":{\"gridcolor\":\"white\",\"linecolor\":\"white\",\"ticks\":\"\"}},\"ternary\":{\"bgcolor\":\"#E5ECF6\",\"aaxis\":{\"gridcolor\":\"white\",\"linecolor\":\"white\",\"ticks\":\"\"},\"baxis\":{\"gridcolor\":\"white\",\"linecolor\":\"white\",\"ticks\":\"\"},\"caxis\":{\"gridcolor\":\"white\",\"linecolor\":\"white\",\"ticks\":\"\"}},\"coloraxis\":{\"colorbar\":{\"outlinewidth\":0,\"ticks\":\"\"}},\"colorscale\":{\"sequential\":[[0.0,\"#0d0887\"],[0.1111111111111111,\"#46039f\"],[0.2222222222222222,\"#7201a8\"],[0.3333333333333333,\"#9c179e\"],[0.4444444444444444,\"#bd3786\"],[0.5555555555555556,\"#d8576b\"],[0.6666666666666666,\"#ed7953\"],[0.7777777777777778,\"#fb9f3a\"],[0.8888888888888888,\"#fdca26\"],[1.0,\"#f0f921\"]],\"sequentialminus\":[[0.0,\"#0d0887\"],[0.1111111111111111,\"#46039f\"],[0.2222222222222222,\"#7201a8\"],[0.3333333333333333,\"#9c179e\"],[0.4444444444444444,\"#bd3786\"],[0.5555555555555556,\"#d8576b\"],[0.6666666666666666,\"#ed7953\"],[0.7777777777777778,\"#fb9f3a\"],[0.8888888888888888,\"#fdca26\"],[1.0,\"#f0f921\"]],\"diverging\":[[0,\"#8e0152\"],[0.1,\"#c51b7d\"],[0.2,\"#de77ae\"],[0.3,\"#f1b6da\"],[0.4,\"#fde0ef\"],[0.5,\"#f7f7f7\"],[0.6,\"#e6f5d0\"],[0.7,\"#b8e186\"],[0.8,\"#7fbc41\"],[0.9,\"#4d9221\"],[1,\"#276419\"]]},\"xaxis\":{\"gridcolor\":\"white\",\"linecolor\":\"white\",\"ticks\":\"\",\"title\":{\"standoff\":15},\"zerolinecolor\":\"white\",\"automargin\":true,\"zerolinewidth\":2},\"yaxis\":{\"gridcolor\":\"white\",\"linecolor\":\"white\",\"ticks\":\"\",\"title\":{\"standoff\":15},\"zerolinecolor\":\"white\",\"automargin\":true,\"zerolinewidth\":2},\"scene\":{\"xaxis\":{\"backgroundcolor\":\"#E5ECF6\",\"gridcolor\":\"white\",\"linecolor\":\"white\",\"showbackground\":true,\"ticks\":\"\",\"zerolinecolor\":\"white\",\"gridwidth\":2},\"yaxis\":{\"backgroundcolor\":\"#E5ECF6\",\"gridcolor\":\"white\",\"linecolor\":\"white\",\"showbackground\":true,\"ticks\":\"\",\"zerolinecolor\":\"white\",\"gridwidth\":2},\"zaxis\":{\"backgroundcolor\":\"#E5ECF6\",\"gridcolor\":\"white\",\"linecolor\":\"white\",\"showbackground\":true,\"ticks\":\"\",\"zerolinecolor\":\"white\",\"gridwidth\":2}},\"shapedefaults\":{\"line\":{\"color\":\"#2a3f5f\"}},\"annotationdefaults\":{\"arrowcolor\":\"#2a3f5f\",\"arrowhead\":0,\"arrowwidth\":1},\"geo\":{\"bgcolor\":\"white\",\"landcolor\":\"#E5ECF6\",\"subunitcolor\":\"white\",\"showland\":true,\"showlakes\":true,\"lakecolor\":\"white\"},\"title\":{\"x\":0.05},\"mapbox\":{\"style\":\"light\"}}}},                        {\"responsive\": true}                    ).then(function(){\n",
              "                            \n",
              "var gd = document.getElementById('4a015ad1-d364-4f28-ba66-149a506f1013');\n",
              "var x = new MutationObserver(function (mutations, observer) {{\n",
              "        var display = window.getComputedStyle(gd).display;\n",
              "        if (!display || display === 'none') {{\n",
              "            console.log([gd, 'removed!']);\n",
              "            Plotly.purge(gd);\n",
              "            observer.disconnect();\n",
              "        }}\n",
              "}});\n",
              "\n",
              "// Listen for the removal of the full notebook cells\n",
              "var notebookContainer = gd.closest('#notebook-container');\n",
              "if (notebookContainer) {{\n",
              "    x.observe(notebookContainer, {childList: true});\n",
              "}}\n",
              "\n",
              "// Listen for the clearing of the current output cell\n",
              "var outputEl = gd.closest('.output');\n",
              "if (outputEl) {{\n",
              "    x.observe(outputEl, {childList: true});\n",
              "}}\n",
              "\n",
              "                        })                };                            </script>        </div>\n",
              "</body>\n",
              "</html>"
            ]
          },
          "metadata": {}
        }
      ],
      "source": [
        "def plot_figure(w, b):\n",
        "    import plotly.graph_objects as go\n",
        "\n",
        "    def get_points(w, b, x1, x2):\n",
        "        A, B = w[0,0], w[1,0]\n",
        "        C= b\n",
        "        return {\n",
        "            'x': [x1,x2],\n",
        "            'y': [(C-A*x1)/B, (C-A*x2)/B]\n",
        "        }\n",
        "\n",
        "    fig1 = px.scatter(df, x='x_1', y='x_2', color='label')\n",
        "    fig2 = go.Figure(go.Scatter(**get_points(w, b, -2, 4), name='brzeg'))\n",
        "\n",
        "    return go.Figure(data=fig1.data +fig2.data)\n",
        "\n",
        "plot_figure(w,b)"
      ],
      "metadata": {
        "colab": {
          "base_uri": "https://localhost:8080/",
          "height": 542
        },
        "id": "wm88J506P2-E",
        "outputId": "318715bb-dd9e-46dc-8c67-c0ee5bd6fe43"
      },
      "execution_count": 9
    },
    {
      "cell_type": "code",
      "outputs": [],
      "source": [
        "# funkcja straty - jak dobry jest model\n",
        "# chcemy minimalizować funkcję straty\n",
        "\n",
        "# cross entropy\n",
        "def cross_entropy(y_pred, y):\n",
        "    return -np.mean(y*np.log(y_pred) + (1-y)*np.log(1-y_pred))"
      ],
      "metadata": {
        "id": "LDPUPWO5P2-E"
      },
      "execution_count": 10
    },
    {
      "cell_type": "code",
      "outputs": [],
      "source": [
        "def compute_cost(X,y,w,b):\n",
        "    y_pred = model(X, w, b)\n",
        "    return cross_entropy(y_pred, y)\n"
      ],
      "metadata": {
        "id": "-Z8QeoStP2-F"
      },
      "execution_count": 11
    },
    {
      "cell_type": "code",
      "outputs": [
        {
          "output_type": "execute_result",
          "data": {
            "text/plain": [
              "(0.5468080282817493,\n",
              " 0.5114185405594789,\n",
              " 0.48269659835493883,\n",
              " 1.6003696159032232,\n",
              " 0.48531278083301205)"
            ]
          },
          "metadata": {},
          "execution_count": 12
        }
      ],
      "source": [
        "def f(b):\n",
        "    return compute_cost(X, y, w,b)\n",
        "\n",
        "f(b), f(-1), f(0), f(5), f(1/9)"
      ],
      "metadata": {
        "colab": {
          "base_uri": "https://localhost:8080/"
        },
        "id": "ZLwiZQjcP2-G",
        "outputId": "bb2d4730-9a23-4818-970b-9e4f13abc457"
      },
      "execution_count": 12
    },
    {
      "cell_type": "code",
      "outputs": [
        {
          "output_type": "execute_result",
          "data": {
            "text/plain": [
              "[<matplotlib.lines.Line2D at 0x7aeb604c7d00>]"
            ]
          },
          "metadata": {},
          "execution_count": 13
        },
        {
          "output_type": "display_data",
          "data": {
            "text/plain": [
              "<Figure size 640x480 with 1 Axes>"
            ],
            "image/png": "[encoded data removed]"
          },
          "metadata": {}
        }
      ],
      "source": [
        "import matplotlib.pyplot as plt\n",
        "bb = list(range(-5,6))\n",
        "f = [f(i) for i in bb]\n",
        "plt.plot(bb, f)"
      ],
      "metadata": {
        "colab": {
          "base_uri": "https://localhost:8080/",
          "height": 447
        },
        "id": "sKL7twHsP2-H",
        "outputId": "22a28409-a452-4c46-85e6-dc828fa955ed"
      },
      "execution_count": 13
    },
    {
      "cell_type": "code",
      "outputs": [],
      "source": [
        "def compute_gradient(X, y, w, b):\n",
        "    n = len(X)\n",
        "    y_pred = model(X, w, b)\n",
        "    error = y_pred - y\n",
        "    dw = 1/n * np.matmul(X.T, error)\n",
        "    db = 1/n * np.sum(error)\n",
        "    return dw, db"
      ],
      "metadata": {
        "id": "qrq1hQVKP2-I"
      },
      "execution_count": 14
    },
    {
      "cell_type": "code",
      "outputs": [
        {
          "output_type": "execute_result",
          "data": {
            "text/plain": [
              "(array([[ 0.20392613],\n",
              "        [-0.02673634]]),\n",
              " 0.10920929261669864)"
            ]
          },
          "metadata": {},
          "execution_count": 15
        }
      ],
      "source": [
        "compute_gradient(X, y, w, b)"
      ],
      "metadata": {
        "colab": {
          "base_uri": "https://localhost:8080/"
        },
        "id": "XQaM6SvAP2-I",
        "outputId": "019cfd2b-c93e-4a14-c802-c4455b0f7172"
      },
      "execution_count": 15
    },
    {
      "cell_type": "code",
      "outputs": [],
      "source": [
        "def step_gradient(data_x, data_y, w_current, b_current, alpha):\n",
        "    w_gradient, b_gradient = compute_gradient(data_x, data_y, w_current, b_current)\n",
        "\n",
        "    w_update = w_current - alpha*w_gradient\n",
        "    b_update = b_current - alpha*b_gradient\n",
        "\n",
        "    return w_update, b_update"
      ],
      "metadata": {
        "id": "fG-ld3qoP2-J"
      },
      "execution_count": 16
    },
    {
      "cell_type": "code",
      "outputs": [
        {
          "output_type": "stream",
          "name": "stdout",
          "text": [
            "cost_before = 0.547\n",
            "cost_after = 0.496\n"
          ]
        }
      ],
      "source": [
        "w_before, b_before = w, b\n",
        "\n",
        "cost_before = compute_cost(X, y, w_before, b_before)\n",
        "\n",
        "w_after, b_after = step_gradient(X, y, w_before, b_before, alpha=1)\n",
        "cost_after = compute_cost(X, y, w_after, b_after)\n",
        "\n",
        "print(f'cost_before = {cost_before:.3f}')\n",
        "print(f'cost_after = {cost_after:.3f}')"
      ],
      "metadata": {
        "colab": {
          "base_uri": "https://localhost:8080/"
        },
        "id": "_Qy5LJYkP2-J",
        "outputId": "4b066fe1-29ee-429f-c7ca-5d61f1a7df71"
      },
      "execution_count": 17
    },
    {
      "cell_type": "code",
      "outputs": [
        {
          "output_type": "display_data",
          "data": {
            "text/html": [
              "<html>\n",
              "<head><meta charset=\"utf-8\" /></head>\n",
              "<body>\n",
              "    <div>            <script src=\"https://cdnjs.cloudflare.com/ajax/libs/mathjax/2.7.5/MathJax.js?config=TeX-AMS-MML_SVG\"></script><script type=\"text/javascript\">if (window.MathJax && window.MathJax.Hub && window.MathJax.Hub.Config) {window.MathJax.Hub.Config({SVG: {font: \"STIX-Web\"}});}</script>                <script type=\"text/javascript\">window.PlotlyConfig = {MathJaxConfig: 'local'};</script>\n",
              "        <script charset=\"utf-8\" src=\"https://cdn.plot.ly/plotly-2.24.1.min.js\"></script>                <div id=\"e106920f-9ade-434f-90e5-314f98faf1d2\" class=\"plotly-graph-div\" style=\"height:525px; width:100%;\"></div>            <script type=\"text/javascript\">                                    window.PLOTLYENV=window.PLOTLYENV || {};                                    if (document.getElementById(\"e106920f-9ade-434f-90e5-314f98faf1d2\")) {                    Plotly.newPlot(                        \"e106920f-9ade-434f-90e5-314f98faf1d2\",                        [{\"hovertemplate\":\"label=m\\u003cbr\\u003ex_1=%{x}\\u003cbr\\u003ex_2=%{y}\\u003cextra\\u003e\\u003c\\u002fextra\\u003e\",\"legendgroup\":\"m\",\"marker\":{\"color\":\"#636efa\",\"symbol\":\"circle\"},\"mode\":\"markers\",\"name\":\"m\",\"orientation\":\"v\",\"showlegend\":true,\"x\":[-1.273999143690053,1.8540044857347167,2.255233788553441,-0.44755349547936807,1.018745368813838,-1.6895630411213434,0.2551619550468095,1.0105126770539947,-0.6501610906848836,-1.438633554343513,1.8490295569010917,-1.2820535821187702,-0.36200257937718505,-2.057105475146656,0.5569654086565774,2.1213016885541958,1.9466848191622335,2.8185103207675497,-1.5700787003001926,1.4913528003763201,-1.5325646545187626,1.7845171909570485,-0.7679797888796192,1.3594467336443088,0.5249626112194795,-0.5334050514052477,-0.21822874150043892,-1.1247392727601089,0.24505683522420074,1.499953536350409,2.0560520206032424,0.8040721303621967,0.7227314267652309,-3.514424081099924,2.024699792458213,0.272320485936954,0.3382657680580967,-2.5627001472762205,0.36542982835443216,-1.417112963896328,0.1873413817783096,1.6797790552913683,1.7771497956549749,0.9947169618942434,-0.5517360272679324,0.552321270172164,-1.5078920086428549,2.5697850737000314,0.40402194723449114,0.5834117790947564,1.714756478728417,0.2429743823362348,-2.276815099249733,-1.6950776721590923,-0.8156660893685442,-0.16252468442662527,0.7652471228243293,1.2518494434404626,0.5499759961500341,-0.42980608628404926,-0.8917525949913199,-0.8735041268136643,-1.1376464032347882,-0.8525129210657961,-1.1877744704791398,1.8490565228937434,3.0099665658626984,0.8881460935620807,0.09987337536450891,1.522712620097631,-0.11762749178685872,1.2646271837575007,-0.9380545682992099,-0.5980467029282812,-2.0271345700289976,0.08702098176365403,1.3502675070007084,0.5081619621254985,0.36974079662912573,-1.2150835541023115,-0.20290110561553942,-0.17170916141586323,0.8443876258695892,1.740229020734938,-0.17924558703971172,-1.657702178319866,0.8506435915044218,0.23719596545561883,2.202024123998413,0.35317355197226474,-1.199797954392338,-1.091209522963344,0.9513021663786202,-1.7535359456144497,-1.7595142630164546,-2.1316654913388398,1.1817702605181568,-0.41421860496417817,0.04682031637839734,0.26496275481300047,-1.2553515468862269,-1.0005466419908657],\"xaxis\":\"x\",\"y\":[-3.2144101373598155,0.7269894872108147,0.2535664348405967,1.1887468284835632,1.021725431224121,0.48082829631362467,1.5632898538439737,-0.7761260954273641,2.7974727464948828,0.3738355534444625,0.21037270049915513,0.4694099154602861,1.5113251206944556,0.10216446155525938,1.5314602093359055,0.2921287951558851,0.5152494188986921,0.1814137483184617,0.9939430714237346,-0.3026301870576915,0.9293758877408322,0.5137865556315726,3.028305882092936,0.16814711138138017,1.061687026909314,1.2105253713706563,1.4512241177050318,0.8087196836035624,1.7569956496140224,0.8012806835952787,0.8553420199106914,1.0873830514682867,1.680777443195102,-1.0140125588324604,0.145575965088091,1.0488020617159326,1.4579732027714853,-0.30497103946360715,1.2775246137450578,-0.1095310244267218,1.4781332031251675,2.820244303975252,0.13742403047880059,1.3193026499232507,1.6019043619706128,1.3057683783046876,1.0116286486696442,-0.00809430981190351,1.5583222224719426,1.5866097764180838,0.5756111338262448,1.7915539508434637,0.10166353868343492,2.719375399789728,1.0028682525195711,1.6660018215512657,0.9683402919630296,0.6390178620362037,2.1335959981334236,1.020562025960116,0.9942555469137359,0.8715192370849554,0.9759460854881572,0.9531602792370331,0.8264836505901175,0.9628101642160563,-0.3927010555794692,0.8709150677778985,1.5400605768466198,1.2500727724245686,1.8990395660811208,2.251812878793557,1.4670182125740956,1.4622480675588214,0.012236050689505729,1.5157572911738415,0.8953397549560504,1.991881008501358,1.2433801357589154,0.8830711710906352,1.5920564573726164,1.3576605299725895,1.1454060458641862,2.9524916060716526,1.5528749818498844,0.4833346366830934,1.1575650016805392,1.0931676009423081,0.38386288019767023,1.5786770455600765,0.8786312883040523,0.648865305394116,0.7640852666329637,0.37280185990649517,0.17920693734556303,-0.1826441759091355,0.5174164384399259,1.299560500525393,0.9890230017163302,1.7666726082343904,1.2099828922281062,1.642109199131336],\"yaxis\":\"y\",\"type\":\"scatter\"},{\"hovertemplate\":\"label=k\\u003cbr\\u003ex_1=%{x}\\u003cbr\\u003ex_2=%{y}\\u003cextra\\u003e\\u003c\\u002fextra\\u003e\",\"legendgroup\":\"k\",\"marker\":{\"color\":\"#EF553B\",\"symbol\":\"circle\"},\"mode\":\"markers\",\"name\":\"k\",\"orientation\":\"v\",\"showlegend\":true,\"x\":[-1.2357623666647777,0.7207319625121981,0.04854688598765278,-1.006911454325123,-1.1718391908547918,-0.2771501019881173,-0.9248559929564053,0.8823454327213786,1.2061134223313588,0.9005356011453814,-1.0384032276563124,-0.9351792340061873,-0.8699954125621665,0.25355621588673627,-1.1456734035832459,-0.8356220645904134,0.009245162203309953,-1.0824187466895963,-1.114387120845623,2.028956502721556,0.05157200785618099,-1.062439470807042,1.1216700890472102,2.4075576595803945,-1.0881590602455393,-0.8834765053466817,-1.041300162959552,0.4418972305618506,2.1348753764782242,1.4082402753442411,1.456382222059246,0.26924996487285613,0.8411027940739737,1.5755283170128411,-0.8039831591451785,1.4727494557378642,-0.928215805917026,-1.036849132436352,-0.9249775418274133,1.2255500842339937,-1.112440011835457,0.8400045292225757,1.5376270602418787,-0.7420116264466012,1.031401017777751,-0.7890491637988525,-1.2241935221674343,2.2604543202453824,1.3150777836451712,-0.3303507205593095,-1.1046095546112351,2.176478023167797,1.648907803972648,0.3410526919062584,-1.1262699563978082,-0.8364044564156181,-0.18646050482152843,-1.2925973822401444,-1.0665796222940518,0.9161640067056432,-0.9721071173843532,-0.09465561660507782,-0.9729553386318198,-0.9081380315866836,-0.8799584896371366,-0.9756266759012262,-0.8946421002872241,-1.1089943452154274,-1.137021221931724,-0.6956964474872891,1.9191385943917134,0.8591340373950658,0.42580126171285315,-1.1307147952179826,1.1575164974548098,1.6898412324806453,-1.0273199872611067,-0.8319258870689361,1.9793022834535878,-1.0093397002161186,-0.6965361697623691,-1.0928603519087825,-1.0247447003291497,1.164204303851094,1.0572638425644691,-0.934910400299853,1.6474289352650722,-0.8514959615173983,1.2091408300407969,-1.0226520467562852,-1.0231351921655842,0.2868662096250555,-1.132834759721709,-0.9159659798654765,-0.8945436774335179,-0.9921089294896663,1.4785049425487626,-0.8639515296025424],\"xaxis\":\"x\",\"y\":[-3.9979524082807476,-0.026282436328033953,-2.170248902062052,-0.7329888801300424,-1.722394419808094,-0.7237126827273639,0.09684717056443515,-1.4023738935944612,0.11151019522765937,-2.9490969460815983,-1.5452413487834198,-0.2988110219830955,-0.2336338426030632,-1.341392119013252,-1.3926707293512832,0.042897990462331226,-0.15154282344683023,-0.9442107358647719,-3.8092759562143668,0.4724548913816835,-0.604688585413576,-2.2653488878106773,-0.476727161538521,-1.5581052199393046,-1.665913016245788,-0.39262703422620926,-2.891368488128583,-2.0724059081116843,0.21579029492016044,1.3177889086945989,-1.417983576199638,-1.8902130433818218,-1.4944329924568174,-0.8740328857635304,-1.653796639714096,-1.2048465328376325,-1.5960134868433213,-1.054816787048605,-0.2812876711968264,-0.6624887719286565,-2.8303342168176107,-1.2403319649379514,0.5747172318396416,-0.2262440560715353,-0.16822223357262245,1.1675363154121472,-1.9884890505966122,0.22687373964868862,0.6843531510144225,-3.1759966673085223,-1.3904377709116553,1.7760611691357941,-0.6211664327889015,-0.6158430899870696,-0.5617080469269911,-0.6207525016403348,-1.9791279144015543,-3.8495937893716903,-1.1718089928476991,-3.4272399495882273,-0.18858193619759978,-3.1233626442464892,-1.198670472123419,-0.4649750544599487,0.8533093290618752,-1.010769901524065,-1.0873070205207496,-0.07226361618127741,-1.8497459151271096,0.9624159453249714,-0.434558229299537,-1.1694773007156354,-2.478807902478135,-1.7599835089626168,-0.26377117101487746,-1.532272499686469,-0.5758966844265707,-1.3425744491932798,0.1845504257870434,-0.04022931340191227,-2.1734521767309936,-0.6037980919593833,-2.664517819874825,-2.428479696709386,-0.31677961479175176,-0.7139802019863397,-0.8687232792127711,0.7355139929039125,-2.5528118821299035,-1.6298487437150548,-1.4553051548773979,-0.7810397147523469,-1.7570649770943991,-0.4484316550363968,0.02180246992899093,-1.3928912333336916,-1.1931951162734105,-0.3063977942904652],\"yaxis\":\"y\",\"type\":\"scatter\"},{\"name\":\"brzeg\",\"x\":[-2,4],\"y\":[1.5,-1.5],\"type\":\"scatter\"}],                        {\"template\":{\"data\":{\"histogram2dcontour\":[{\"type\":\"histogram2dcontour\",\"colorbar\":{\"outlinewidth\":0,\"ticks\":\"\"},\"colorscale\":[[0.0,\"#0d0887\"],[0.1111111111111111,\"#46039f\"],[0.2222222222222222,\"#7201a8\"],[0.3333333333333333,\"#9c179e\"],[0.4444444444444444,\"#bd3786\"],[0.5555555555555556,\"#d8576b\"],[0.6666666666666666,\"#ed7953\"],[0.7777777777777778,\"#fb9f3a\"],[0.8888888888888888,\"#fdca26\"],[1.0,\"#f0f921\"]]}],\"choropleth\":[{\"type\":\"choropleth\",\"colorbar\":{\"outlinewidth\":0,\"ticks\":\"\"}}],\"histogram2d\":[{\"type\":\"histogram2d\",\"colorbar\":{\"outlinewidth\":0,\"ticks\":\"\"},\"colorscale\":[[0.0,\"#0d0887\"],[0.1111111111111111,\"#46039f\"],[0.2222222222222222,\"#7201a8\"],[0.3333333333333333,\"#9c179e\"],[0.4444444444444444,\"#bd3786\"],[0.5555555555555556,\"#d8576b\"],[0.6666666666666666,\"#ed7953\"],[0.7777777777777778,\"#fb9f3a\"],[0.8888888888888888,\"#fdca26\"],[1.0,\"#f0f921\"]]}],\"heatmap\":[{\"type\":\"heatmap\",\"colorbar\":{\"outlinewidth\":0,\"ticks\":\"\"},\"colorscale\":[[0.0,\"#0d0887\"],[0.1111111111111111,\"#46039f\"],[0.2222222222222222,\"#7201a8\"],[0.3333333333333333,\"#9c179e\"],[0.4444444444444444,\"#bd3786\"],[0.5555555555555556,\"#d8576b\"],[0.6666666666666666,\"#ed7953\"],[0.7777777777777778,\"#fb9f3a\"],[0.8888888888888888,\"#fdca26\"],[1.0,\"#f0f921\"]]}],\"heatmapgl\":[{\"type\":\"heatmapgl\",\"colorbar\":{\"outlinewidth\":0,\"ticks\":\"\"},\"colorscale\":[[0.0,\"#0d0887\"],[0.1111111111111111,\"#46039f\"],[0.2222222222222222,\"#7201a8\"],[0.3333333333333333,\"#9c179e\"],[0.4444444444444444,\"#bd3786\"],[0.5555555555555556,\"#d8576b\"],[0.6666666666666666,\"#ed7953\"],[0.7777777777777778,\"#fb9f3a\"],[0.8888888888888888,\"#fdca26\"],[1.0,\"#f0f921\"]]}],\"contourcarpet\":[{\"type\":\"contourcarpet\",\"colorbar\":{\"outlinewidth\":0,\"ticks\":\"\"}}],\"contour\":[{\"type\":\"contour\",\"colorbar\":{\"outlinewidth\":0,\"ticks\":\"\"},\"colorscale\":[[0.0,\"#0d0887\"],[0.1111111111111111,\"#46039f\"],[0.2222222222222222,\"#7201a8\"],[0.3333333333333333,\"#9c179e\"],[0.4444444444444444,\"#bd3786\"],[0.5555555555555556,\"#d8576b\"],[0.6666666666666666,\"#ed7953\"],[0.7777777777777778,\"#fb9f3a\"],[0.8888888888888888,\"#fdca26\"],[1.0,\"#f0f921\"]]}],\"surface\":[{\"type\":\"surface\",\"colorbar\":{\"outlinewidth\":0,\"ticks\":\"\"},\"colorscale\":[[0.0,\"#0d0887\"],[0.1111111111111111,\"#46039f\"],[0.2222222222222222,\"#7201a8\"],[0.3333333333333333,\"#9c179e\"],[0.4444444444444444,\"#bd3786\"],[0.5555555555555556,\"#d8576b\"],[0.6666666666666666,\"#ed7953\"],[0.7777777777777778,\"#fb9f3a\"],[0.8888888888888888,\"#fdca26\"],[1.0,\"#f0f921\"]]}],\"mesh3d\":[{\"type\":\"mesh3d\",\"colorbar\":{\"outlinewidth\":0,\"ticks\":\"\"}}],\"scatter\":[{\"fillpattern\":{\"fillmode\":\"overlay\",\"size\":10,\"solidity\":0.2},\"type\":\"scatter\"}],\"parcoords\":[{\"type\":\"parcoords\",\"line\":{\"colorbar\":{\"outlinewidth\":0,\"ticks\":\"\"}}}],\"scatterpolargl\":[{\"type\":\"scatterpolargl\",\"marker\":{\"colorbar\":{\"outlinewidth\":0,\"ticks\":\"\"}}}],\"bar\":[{\"error_x\":{\"color\":\"#2a3f5f\"},\"error_y\":{\"color\":\"#2a3f5f\"},\"marker\":{\"line\":{\"color\":\"#E5ECF6\",\"width\":0.5},\"pattern\":{\"fillmode\":\"overlay\",\"size\":10,\"solidity\":0.2}},\"type\":\"bar\"}],\"scattergeo\":[{\"type\":\"scattergeo\",\"marker\":{\"colorbar\":{\"outlinewidth\":0,\"ticks\":\"\"}}}],\"scatterpolar\":[{\"type\":\"scatterpolar\",\"marker\":{\"colorbar\":{\"outlinewidth\":0,\"ticks\":\"\"}}}],\"histogram\":[{\"marker\":{\"pattern\":{\"fillmode\":\"overlay\",\"size\":10,\"solidity\":0.2}},\"type\":\"histogram\"}],\"scattergl\":[{\"type\":\"scattergl\",\"marker\":{\"colorbar\":{\"outlinewidth\":0,\"ticks\":\"\"}}}],\"scatter3d\":[{\"type\":\"scatter3d\",\"line\":{\"colorbar\":{\"outlinewidth\":0,\"ticks\":\"\"}},\"marker\":{\"colorbar\":{\"outlinewidth\":0,\"ticks\":\"\"}}}],\"scattermapbox\":[{\"type\":\"scattermapbox\",\"marker\":{\"colorbar\":{\"outlinewidth\":0,\"ticks\":\"\"}}}],\"scatterternary\":[{\"type\":\"scatterternary\",\"marker\":{\"colorbar\":{\"outlinewidth\":0,\"ticks\":\"\"}}}],\"scattercarpet\":[{\"type\":\"scattercarpet\",\"marker\":{\"colorbar\":{\"outlinewidth\":0,\"ticks\":\"\"}}}],\"carpet\":[{\"aaxis\":{\"endlinecolor\":\"#2a3f5f\",\"gridcolor\":\"white\",\"linecolor\":\"white\",\"minorgridcolor\":\"white\",\"startlinecolor\":\"#2a3f5f\"},\"baxis\":{\"endlinecolor\":\"#2a3f5f\",\"gridcolor\":\"white\",\"linecolor\":\"white\",\"minorgridcolor\":\"white\",\"startlinecolor\":\"#2a3f5f\"},\"type\":\"carpet\"}],\"table\":[{\"cells\":{\"fill\":{\"color\":\"#EBF0F8\"},\"line\":{\"color\":\"white\"}},\"header\":{\"fill\":{\"color\":\"#C8D4E3\"},\"line\":{\"color\":\"white\"}},\"type\":\"table\"}],\"barpolar\":[{\"marker\":{\"line\":{\"color\":\"#E5ECF6\",\"width\":0.5},\"pattern\":{\"fillmode\":\"overlay\",\"size\":10,\"solidity\":0.2}},\"type\":\"barpolar\"}],\"pie\":[{\"automargin\":true,\"type\":\"pie\"}]},\"layout\":{\"autotypenumbers\":\"strict\",\"colorway\":[\"#636efa\",\"#EF553B\",\"#00cc96\",\"#ab63fa\",\"#FFA15A\",\"#19d3f3\",\"#FF6692\",\"#B6E880\",\"#FF97FF\",\"#FECB52\"],\"font\":{\"color\":\"#2a3f5f\"},\"hovermode\":\"closest\",\"hoverlabel\":{\"align\":\"left\"},\"paper_bgcolor\":\"white\",\"plot_bgcolor\":\"#E5ECF6\",\"polar\":{\"bgcolor\":\"#E5ECF6\",\"angularaxis\":{\"gridcolor\":\"white\",\"linecolor\":\"white\",\"ticks\":\"\"},\"radialaxis\":{\"gridcolor\":\"white\",\"linecolor\":\"white\",\"ticks\":\"\"}},\"ternary\":{\"bgcolor\":\"#E5ECF6\",\"aaxis\":{\"gridcolor\":\"white\",\"linecolor\":\"white\",\"ticks\":\"\"},\"baxis\":{\"gridcolor\":\"white\",\"linecolor\":\"white\",\"ticks\":\"\"},\"caxis\":{\"gridcolor\":\"white\",\"linecolor\":\"white\",\"ticks\":\"\"}},\"coloraxis\":{\"colorbar\":{\"outlinewidth\":0,\"ticks\":\"\"}},\"colorscale\":{\"sequential\":[[0.0,\"#0d0887\"],[0.1111111111111111,\"#46039f\"],[0.2222222222222222,\"#7201a8\"],[0.3333333333333333,\"#9c179e\"],[0.4444444444444444,\"#bd3786\"],[0.5555555555555556,\"#d8576b\"],[0.6666666666666666,\"#ed7953\"],[0.7777777777777778,\"#fb9f3a\"],[0.8888888888888888,\"#fdca26\"],[1.0,\"#f0f921\"]],\"sequentialminus\":[[0.0,\"#0d0887\"],[0.1111111111111111,\"#46039f\"],[0.2222222222222222,\"#7201a8\"],[0.3333333333333333,\"#9c179e\"],[0.4444444444444444,\"#bd3786\"],[0.5555555555555556,\"#d8576b\"],[0.6666666666666666,\"#ed7953\"],[0.7777777777777778,\"#fb9f3a\"],[0.8888888888888888,\"#fdca26\"],[1.0,\"#f0f921\"]],\"diverging\":[[0,\"#8e0152\"],[0.1,\"#c51b7d\"],[0.2,\"#de77ae\"],[0.3,\"#f1b6da\"],[0.4,\"#fde0ef\"],[0.5,\"#f7f7f7\"],[0.6,\"#e6f5d0\"],[0.7,\"#b8e186\"],[0.8,\"#7fbc41\"],[0.9,\"#4d9221\"],[1,\"#276419\"]]},\"xaxis\":{\"gridcolor\":\"white\",\"linecolor\":\"white\",\"ticks\":\"\",\"title\":{\"standoff\":15},\"zerolinecolor\":\"white\",\"automargin\":true,\"zerolinewidth\":2},\"yaxis\":{\"gridcolor\":\"white\",\"linecolor\":\"white\",\"ticks\":\"\",\"title\":{\"standoff\":15},\"zerolinecolor\":\"white\",\"automargin\":true,\"zerolinewidth\":2},\"scene\":{\"xaxis\":{\"backgroundcolor\":\"#E5ECF6\",\"gridcolor\":\"white\",\"linecolor\":\"white\",\"showbackground\":true,\"ticks\":\"\",\"zerolinecolor\":\"white\",\"gridwidth\":2},\"yaxis\":{\"backgroundcolor\":\"#E5ECF6\",\"gridcolor\":\"white\",\"linecolor\":\"white\",\"showbackground\":true,\"ticks\":\"\",\"zerolinecolor\":\"white\",\"gridwidth\":2},\"zaxis\":{\"backgroundcolor\":\"#E5ECF6\",\"gridcolor\":\"white\",\"linecolor\":\"white\",\"showbackground\":true,\"ticks\":\"\",\"zerolinecolor\":\"white\",\"gridwidth\":2}},\"shapedefaults\":{\"line\":{\"color\":\"#2a3f5f\"}},\"annotationdefaults\":{\"arrowcolor\":\"#2a3f5f\",\"arrowhead\":0,\"arrowwidth\":1},\"geo\":{\"bgcolor\":\"white\",\"landcolor\":\"#E5ECF6\",\"subunitcolor\":\"white\",\"showland\":true,\"showlakes\":true,\"lakecolor\":\"white\"},\"title\":{\"x\":0.05},\"mapbox\":{\"style\":\"light\"}}}},                        {\"responsive\": true}                    ).then(function(){\n",
              "                            \n",
              "var gd = document.getElementById('e106920f-9ade-434f-90e5-314f98faf1d2');\n",
              "var x = new MutationObserver(function (mutations, observer) {{\n",
              "        var display = window.getComputedStyle(gd).display;\n",
              "        if (!display || display === 'none') {{\n",
              "            console.log([gd, 'removed!']);\n",
              "            Plotly.purge(gd);\n",
              "            observer.disconnect();\n",
              "        }}\n",
              "}});\n",
              "\n",
              "// Listen for the removal of the full notebook cells\n",
              "var notebookContainer = gd.closest('#notebook-container');\n",
              "if (notebookContainer) {{\n",
              "    x.observe(notebookContainer, {childList: true});\n",
              "}}\n",
              "\n",
              "// Listen for the clearing of the current output cell\n",
              "var outputEl = gd.closest('.output');\n",
              "if (outputEl) {{\n",
              "    x.observe(outputEl, {childList: true});\n",
              "}}\n",
              "\n",
              "                        })                };                            </script>        </div>\n",
              "</body>\n",
              "</html>"
            ]
          },
          "metadata": {}
        }
      ],
      "source": [
        "plot_figure(w_before, b_before)"
      ],
      "metadata": {
        "colab": {
          "base_uri": "https://localhost:8080/",
          "height": 542
        },
        "id": "TAZth8aMP2-J",
        "outputId": "5c95d75f-e449-494b-bf80-a7fc441a66f8"
      },
      "execution_count": 18
    },
    {
      "cell_type": "code",
      "outputs": [],
      "source": [
        "def gradient_descent(data_x, data_y, w_init, b_init, alpha, num_epochs):\n",
        "\n",
        "    w = w_init\n",
        "    b = b_init\n",
        "\n",
        "    cost_history = []\n",
        "\n",
        "    w_history = []\n",
        "    b_history = []\n",
        "\n",
        "    for i in range(num_epochs):\n",
        "        cost_history.append(compute_cost(data_x, data_y, w, b))\n",
        "        w, b = step_gradient(data_x, data_y, w, b, alpha)\n",
        "        w_history.append(w)\n",
        "        b_history.append(b)\n",
        "\n",
        "    return cost_history, w_history, b_history"
      ],
      "metadata": {
        "id": "EdPRWVXfP2-J"
      },
      "execution_count": 19
    },
    {
      "cell_type": "code",
      "outputs": [
        {
          "output_type": "display_data",
          "data": {
            "text/html": [
              "<html>\n",
              "<head><meta charset=\"utf-8\" /></head>\n",
              "<body>\n",
              "    <div>            <script src=\"https://cdnjs.cloudflare.com/ajax/libs/mathjax/2.7.5/MathJax.js?config=TeX-AMS-MML_SVG\"></script><script type=\"text/javascript\">if (window.MathJax && window.MathJax.Hub && window.MathJax.Hub.Config) {window.MathJax.Hub.Config({SVG: {font: \"STIX-Web\"}});}</script>                <script type=\"text/javascript\">window.PlotlyConfig = {MathJaxConfig: 'local'};</script>\n",
              "        <script charset=\"utf-8\" src=\"https://cdn.plot.ly/plotly-2.24.1.min.js\"></script>                <div id=\"4b98a380-9d32-4ab2-acfb-4de615b5210f\" class=\"plotly-graph-div\" style=\"height:525px; width:100%;\"></div>            <script type=\"text/javascript\">                                    window.PLOTLYENV=window.PLOTLYENV || {};                                    if (document.getElementById(\"4b98a380-9d32-4ab2-acfb-4de615b5210f\")) {                    Plotly.newPlot(                        \"4b98a380-9d32-4ab2-acfb-4de615b5210f\",                        [{\"hovertemplate\":\"x=%{x}\\u003cbr\\u003ey=%{y}\\u003cextra\\u003e\\u003c\\u002fextra\\u003e\",\"legendgroup\":\"\",\"line\":{\"color\":\"#636efa\",\"dash\":\"solid\"},\"marker\":{\"symbol\":\"circle\"},\"mode\":\"lines\",\"name\":\"\",\"orientation\":\"v\",\"showlegend\":false,\"x\":[0,1,2,3,4,5,6,7,8,9,10,11,12,13,14,15,16,17,18,19,20,21,22,23,24,25,26,27,28,29],\"xaxis\":\"x\",\"y\":[0.5468080282817493,0.49574357128535035,0.4561801777001764,0.42613702137819964,0.403800133550649,0.38753685538895577,0.3759014427859458,0.36767050812854435,0.36187057761820646,0.3577711761349448,0.35484888462348657,0.3527402296408717,0.3511972566119363,0.350051912245588,0.3491900309583752,0.34853336468135465,0.3480275657356433,0.34763428535994045,0.3473260082670619,0.34708266725298204,0.34688940471752006,0.3467350723969119,0.3466112089543032,0.34651133030557063,0.34643042770724775,0.34636460634351024,0.346310820773368,0.34626667846873543,0.34623029212146067,0.3462001674809275],\"yaxis\":\"y\",\"type\":\"scatter\"}],                        {\"template\":{\"data\":{\"histogram2dcontour\":[{\"type\":\"histogram2dcontour\",\"colorbar\":{\"outlinewidth\":0,\"ticks\":\"\"},\"colorscale\":[[0.0,\"#0d0887\"],[0.1111111111111111,\"#46039f\"],[0.2222222222222222,\"#7201a8\"],[0.3333333333333333,\"#9c179e\"],[0.4444444444444444,\"#bd3786\"],[0.5555555555555556,\"#d8576b\"],[0.6666666666666666,\"#ed7953\"],[0.7777777777777778,\"#fb9f3a\"],[0.8888888888888888,\"#fdca26\"],[1.0,\"#f0f921\"]]}],\"choropleth\":[{\"type\":\"choropleth\",\"colorbar\":{\"outlinewidth\":0,\"ticks\":\"\"}}],\"histogram2d\":[{\"type\":\"histogram2d\",\"colorbar\":{\"outlinewidth\":0,\"ticks\":\"\"},\"colorscale\":[[0.0,\"#0d0887\"],[0.1111111111111111,\"#46039f\"],[0.2222222222222222,\"#7201a8\"],[0.3333333333333333,\"#9c179e\"],[0.4444444444444444,\"#bd3786\"],[0.5555555555555556,\"#d8576b\"],[0.6666666666666666,\"#ed7953\"],[0.7777777777777778,\"#fb9f3a\"],[0.8888888888888888,\"#fdca26\"],[1.0,\"#f0f921\"]]}],\"heatmap\":[{\"type\":\"heatmap\",\"colorbar\":{\"outlinewidth\":0,\"ticks\":\"\"},\"colorscale\":[[0.0,\"#0d0887\"],[0.1111111111111111,\"#46039f\"],[0.2222222222222222,\"#7201a8\"],[0.3333333333333333,\"#9c179e\"],[0.4444444444444444,\"#bd3786\"],[0.5555555555555556,\"#d8576b\"],[0.6666666666666666,\"#ed7953\"],[0.7777777777777778,\"#fb9f3a\"],[0.8888888888888888,\"#fdca26\"],[1.0,\"#f0f921\"]]}],\"heatmapgl\":[{\"type\":\"heatmapgl\",\"colorbar\":{\"outlinewidth\":0,\"ticks\":\"\"},\"colorscale\":[[0.0,\"#0d0887\"],[0.1111111111111111,\"#46039f\"],[0.2222222222222222,\"#7201a8\"],[0.3333333333333333,\"#9c179e\"],[0.4444444444444444,\"#bd3786\"],[0.5555555555555556,\"#d8576b\"],[0.6666666666666666,\"#ed7953\"],[0.7777777777777778,\"#fb9f3a\"],[0.8888888888888888,\"#fdca26\"],[1.0,\"#f0f921\"]]}],\"contourcarpet\":[{\"type\":\"contourcarpet\",\"colorbar\":{\"outlinewidth\":0,\"ticks\":\"\"}}],\"contour\":[{\"type\":\"contour\",\"colorbar\":{\"outlinewidth\":0,\"ticks\":\"\"},\"colorscale\":[[0.0,\"#0d0887\"],[0.1111111111111111,\"#46039f\"],[0.2222222222222222,\"#7201a8\"],[0.3333333333333333,\"#9c179e\"],[0.4444444444444444,\"#bd3786\"],[0.5555555555555556,\"#d8576b\"],[0.6666666666666666,\"#ed7953\"],[0.7777777777777778,\"#fb9f3a\"],[0.8888888888888888,\"#fdca26\"],[1.0,\"#f0f921\"]]}],\"surface\":[{\"type\":\"surface\",\"colorbar\":{\"outlinewidth\":0,\"ticks\":\"\"},\"colorscale\":[[0.0,\"#0d0887\"],[0.1111111111111111,\"#46039f\"],[0.2222222222222222,\"#7201a8\"],[0.3333333333333333,\"#9c179e\"],[0.4444444444444444,\"#bd3786\"],[0.5555555555555556,\"#d8576b\"],[0.6666666666666666,\"#ed7953\"],[0.7777777777777778,\"#fb9f3a\"],[0.8888888888888888,\"#fdca26\"],[1.0,\"#f0f921\"]]}],\"mesh3d\":[{\"type\":\"mesh3d\",\"colorbar\":{\"outlinewidth\":0,\"ticks\":\"\"}}],\"scatter\":[{\"fillpattern\":{\"fillmode\":\"overlay\",\"size\":10,\"solidity\":0.2},\"type\":\"scatter\"}],\"parcoords\":[{\"type\":\"parcoords\",\"line\":{\"colorbar\":{\"outlinewidth\":0,\"ticks\":\"\"}}}],\"scatterpolargl\":[{\"type\":\"scatterpolargl\",\"marker\":{\"colorbar\":{\"outlinewidth\":0,\"ticks\":\"\"}}}],\"bar\":[{\"error_x\":{\"color\":\"#2a3f5f\"},\"error_y\":{\"color\":\"#2a3f5f\"},\"marker\":{\"line\":{\"color\":\"#E5ECF6\",\"width\":0.5},\"pattern\":{\"fillmode\":\"overlay\",\"size\":10,\"solidity\":0.2}},\"type\":\"bar\"}],\"scattergeo\":[{\"type\":\"scattergeo\",\"marker\":{\"colorbar\":{\"outlinewidth\":0,\"ticks\":\"\"}}}],\"scatterpolar\":[{\"type\":\"scatterpolar\",\"marker\":{\"colorbar\":{\"outlinewidth\":0,\"ticks\":\"\"}}}],\"histogram\":[{\"marker\":{\"pattern\":{\"fillmode\":\"overlay\",\"size\":10,\"solidity\":0.2}},\"type\":\"histogram\"}],\"scattergl\":[{\"type\":\"scattergl\",\"marker\":{\"colorbar\":{\"outlinewidth\":0,\"ticks\":\"\"}}}],\"scatter3d\":[{\"type\":\"scatter3d\",\"line\":{\"colorbar\":{\"outlinewidth\":0,\"ticks\":\"\"}},\"marker\":{\"colorbar\":{\"outlinewidth\":0,\"ticks\":\"\"}}}],\"scattermapbox\":[{\"type\":\"scattermapbox\",\"marker\":{\"colorbar\":{\"outlinewidth\":0,\"ticks\":\"\"}}}],\"scatterternary\":[{\"type\":\"scatterternary\",\"marker\":{\"colorbar\":{\"outlinewidth\":0,\"ticks\":\"\"}}}],\"scattercarpet\":[{\"type\":\"scattercarpet\",\"marker\":{\"colorbar\":{\"outlinewidth\":0,\"ticks\":\"\"}}}],\"carpet\":[{\"aaxis\":{\"endlinecolor\":\"#2a3f5f\",\"gridcolor\":\"white\",\"linecolor\":\"white\",\"minorgridcolor\":\"white\",\"startlinecolor\":\"#2a3f5f\"},\"baxis\":{\"endlinecolor\":\"#2a3f5f\",\"gridcolor\":\"white\",\"linecolor\":\"white\",\"minorgridcolor\":\"white\",\"startlinecolor\":\"#2a3f5f\"},\"type\":\"carpet\"}],\"table\":[{\"cells\":{\"fill\":{\"color\":\"#EBF0F8\"},\"line\":{\"color\":\"white\"}},\"header\":{\"fill\":{\"color\":\"#C8D4E3\"},\"line\":{\"color\":\"white\"}},\"type\":\"table\"}],\"barpolar\":[{\"marker\":{\"line\":{\"color\":\"#E5ECF6\",\"width\":0.5},\"pattern\":{\"fillmode\":\"overlay\",\"size\":10,\"solidity\":0.2}},\"type\":\"barpolar\"}],\"pie\":[{\"automargin\":true,\"type\":\"pie\"}]},\"layout\":{\"autotypenumbers\":\"strict\",\"colorway\":[\"#636efa\",\"#EF553B\",\"#00cc96\",\"#ab63fa\",\"#FFA15A\",\"#19d3f3\",\"#FF6692\",\"#B6E880\",\"#FF97FF\",\"#FECB52\"],\"font\":{\"color\":\"#2a3f5f\"},\"hovermode\":\"closest\",\"hoverlabel\":{\"align\":\"left\"},\"paper_bgcolor\":\"white\",\"plot_bgcolor\":\"#E5ECF6\",\"polar\":{\"bgcolor\":\"#E5ECF6\",\"angularaxis\":{\"gridcolor\":\"white\",\"linecolor\":\"white\",\"ticks\":\"\"},\"radialaxis\":{\"gridcolor\":\"white\",\"linecolor\":\"white\",\"ticks\":\"\"}},\"ternary\":{\"bgcolor\":\"#E5ECF6\",\"aaxis\":{\"gridcolor\":\"white\",\"linecolor\":\"white\",\"ticks\":\"\"},\"baxis\":{\"gridcolor\":\"white\",\"linecolor\":\"white\",\"ticks\":\"\"},\"caxis\":{\"gridcolor\":\"white\",\"linecolor\":\"white\",\"ticks\":\"\"}},\"coloraxis\":{\"colorbar\":{\"outlinewidth\":0,\"ticks\":\"\"}},\"colorscale\":{\"sequential\":[[0.0,\"#0d0887\"],[0.1111111111111111,\"#46039f\"],[0.2222222222222222,\"#7201a8\"],[0.3333333333333333,\"#9c179e\"],[0.4444444444444444,\"#bd3786\"],[0.5555555555555556,\"#d8576b\"],[0.6666666666666666,\"#ed7953\"],[0.7777777777777778,\"#fb9f3a\"],[0.8888888888888888,\"#fdca26\"],[1.0,\"#f0f921\"]],\"sequentialminus\":[[0.0,\"#0d0887\"],[0.1111111111111111,\"#46039f\"],[0.2222222222222222,\"#7201a8\"],[0.3333333333333333,\"#9c179e\"],[0.4444444444444444,\"#bd3786\"],[0.5555555555555556,\"#d8576b\"],[0.6666666666666666,\"#ed7953\"],[0.7777777777777778,\"#fb9f3a\"],[0.8888888888888888,\"#fdca26\"],[1.0,\"#f0f921\"]],\"diverging\":[[0,\"#8e0152\"],[0.1,\"#c51b7d\"],[0.2,\"#de77ae\"],[0.3,\"#f1b6da\"],[0.4,\"#fde0ef\"],[0.5,\"#f7f7f7\"],[0.6,\"#e6f5d0\"],[0.7,\"#b8e186\"],[0.8,\"#7fbc41\"],[0.9,\"#4d9221\"],[1,\"#276419\"]]},\"xaxis\":{\"gridcolor\":\"white\",\"linecolor\":\"white\",\"ticks\":\"\",\"title\":{\"standoff\":15},\"zerolinecolor\":\"white\",\"automargin\":true,\"zerolinewidth\":2},\"yaxis\":{\"gridcolor\":\"white\",\"linecolor\":\"white\",\"ticks\":\"\",\"title\":{\"standoff\":15},\"zerolinecolor\":\"white\",\"automargin\":true,\"zerolinewidth\":2},\"scene\":{\"xaxis\":{\"backgroundcolor\":\"#E5ECF6\",\"gridcolor\":\"white\",\"linecolor\":\"white\",\"showbackground\":true,\"ticks\":\"\",\"zerolinecolor\":\"white\",\"gridwidth\":2},\"yaxis\":{\"backgroundcolor\":\"#E5ECF6\",\"gridcolor\":\"white\",\"linecolor\":\"white\",\"showbackground\":true,\"ticks\":\"\",\"zerolinecolor\":\"white\",\"gridwidth\":2},\"zaxis\":{\"backgroundcolor\":\"#E5ECF6\",\"gridcolor\":\"white\",\"linecolor\":\"white\",\"showbackground\":true,\"ticks\":\"\",\"zerolinecolor\":\"white\",\"gridwidth\":2}},\"shapedefaults\":{\"line\":{\"color\":\"#2a3f5f\"}},\"annotationdefaults\":{\"arrowcolor\":\"#2a3f5f\",\"arrowhead\":0,\"arrowwidth\":1},\"geo\":{\"bgcolor\":\"white\",\"landcolor\":\"#E5ECF6\",\"subunitcolor\":\"white\",\"showland\":true,\"showlakes\":true,\"lakecolor\":\"white\"},\"title\":{\"x\":0.05},\"mapbox\":{\"style\":\"light\"}}},\"xaxis\":{\"anchor\":\"y\",\"domain\":[0.0,1.0],\"title\":{\"text\":\"nr epoki\"}},\"yaxis\":{\"anchor\":\"x\",\"domain\":[0.0,1.0],\"title\":{\"text\":\"MSE\"}},\"legend\":{\"tracegroupgap\":0},\"margin\":{\"t\":60}},                        {\"responsive\": true}                    ).then(function(){\n",
              "                            \n",
              "var gd = document.getElementById('4b98a380-9d32-4ab2-acfb-4de615b5210f');\n",
              "var x = new MutationObserver(function (mutations, observer) {{\n",
              "        var display = window.getComputedStyle(gd).display;\n",
              "        if (!display || display === 'none') {{\n",
              "            console.log([gd, 'removed!']);\n",
              "            Plotly.purge(gd);\n",
              "            observer.disconnect();\n",
              "        }}\n",
              "}});\n",
              "\n",
              "// Listen for the removal of the full notebook cells\n",
              "var notebookContainer = gd.closest('#notebook-container');\n",
              "if (notebookContainer) {{\n",
              "    x.observe(notebookContainer, {childList: true});\n",
              "}}\n",
              "\n",
              "// Listen for the clearing of the current output cell\n",
              "var outputEl = gd.closest('.output');\n",
              "if (outputEl) {{\n",
              "    x.observe(outputEl, {childList: true});\n",
              "}}\n",
              "\n",
              "                        })                };                            </script>        </div>\n",
              "</body>\n",
              "</html>"
            ]
          },
          "metadata": {}
        }
      ],
      "source": [
        "num_epochs = 30\n",
        "cost_history, w_history, b_history = gradient_descent(\n",
        "    X, y, w_init=w, b_init=b, alpha=1, num_epochs=num_epochs\n",
        ")\n",
        "\n",
        "fig = px.line(x=list(range(num_epochs)), y=cost_history)\n",
        "fig.update_layout(xaxis_title='nr epoki', yaxis_title='MSE')\n",
        "fig"
      ],
      "metadata": {
        "colab": {
          "base_uri": "https://localhost:8080/",
          "height": 542
        },
        "id": "gkNzcTZbP2-K",
        "outputId": "c16e49cf-3963-42b9-b08e-715d70c03846"
      },
      "execution_count": 20
    },
    {
      "cell_type": "code",
      "outputs": [
        {
          "output_type": "execute_result",
          "data": {
            "text/plain": [
              "(array([[-0.1281306 ],\n",
              "        [ 2.10506928]]),\n",
              " -0.11394551296330463)"
            ]
          },
          "metadata": {},
          "execution_count": 21
        }
      ],
      "source": [
        "w_history[-1], b_history[-1]"
      ],
      "metadata": {
        "colab": {
          "base_uri": "https://localhost:8080/"
        },
        "id": "bZrn8MlJP2-K",
        "outputId": "b9044044-652d-42c8-9f08-016ee136a5dc"
      },
      "execution_count": 21
    },
    {
      "cell_type": "code",
      "outputs": [
        {
          "output_type": "execute_result",
          "data": {
            "text/plain": [
              "0.3461751174673129"
            ]
          },
          "metadata": {},
          "execution_count": 22
        }
      ],
      "source": [
        "compute_cost(X, y, w_history[-1], b_history[-1])\n"
      ],
      "metadata": {
        "colab": {
          "base_uri": "https://localhost:8080/"
        },
        "id": "R-V2kpfHP2-K",
        "outputId": "4c6c9b38-3d05-4758-afd3-1b881c767939"
      },
      "execution_count": 22
    },
    {
      "cell_type": "code",
      "outputs": [
        {
          "output_type": "display_data",
          "data": {
            "text/html": [
              "<html>\n",
              "<head><meta charset=\"utf-8\" /></head>\n",
              "<body>\n",
              "    <div>            <script src=\"https://cdnjs.cloudflare.com/ajax/libs/mathjax/2.7.5/MathJax.js?config=TeX-AMS-MML_SVG\"></script><script type=\"text/javascript\">if (window.MathJax && window.MathJax.Hub && window.MathJax.Hub.Config) {window.MathJax.Hub.Config({SVG: {font: \"STIX-Web\"}});}</script>                <script type=\"text/javascript\">window.PlotlyConfig = {MathJaxConfig: 'local'};</script>\n",
              "        <script charset=\"utf-8\" src=\"https://cdn.plot.ly/plotly-2.24.1.min.js\"></script>                <div id=\"a39aebb2-879e-455e-ab7e-d6828267c269\" class=\"plotly-graph-div\" style=\"height:525px; width:100%;\"></div>            <script type=\"text/javascript\">                                    window.PLOTLYENV=window.PLOTLYENV || {};                                    if (document.getElementById(\"a39aebb2-879e-455e-ab7e-d6828267c269\")) {                    Plotly.newPlot(                        \"a39aebb2-879e-455e-ab7e-d6828267c269\",                        [{\"hovertemplate\":\"label=m\\u003cbr\\u003ex_1=%{x}\\u003cbr\\u003ex_2=%{y}\\u003cextra\\u003e\\u003c\\u002fextra\\u003e\",\"legendgroup\":\"m\",\"marker\":{\"color\":\"#636efa\",\"symbol\":\"circle\"},\"mode\":\"markers\",\"name\":\"m\",\"orientation\":\"v\",\"showlegend\":true,\"x\":[-1.273999143690053,1.8540044857347167,2.255233788553441,-0.44755349547936807,1.018745368813838,-1.6895630411213434,0.2551619550468095,1.0105126770539947,-0.6501610906848836,-1.438633554343513,1.8490295569010917,-1.2820535821187702,-0.36200257937718505,-2.057105475146656,0.5569654086565774,2.1213016885541958,1.9466848191622335,2.8185103207675497,-1.5700787003001926,1.4913528003763201,-1.5325646545187626,1.7845171909570485,-0.7679797888796192,1.3594467336443088,0.5249626112194795,-0.5334050514052477,-0.21822874150043892,-1.1247392727601089,0.24505683522420074,1.499953536350409,2.0560520206032424,0.8040721303621967,0.7227314267652309,-3.514424081099924,2.024699792458213,0.272320485936954,0.3382657680580967,-2.5627001472762205,0.36542982835443216,-1.417112963896328,0.1873413817783096,1.6797790552913683,1.7771497956549749,0.9947169618942434,-0.5517360272679324,0.552321270172164,-1.5078920086428549,2.5697850737000314,0.40402194723449114,0.5834117790947564,1.714756478728417,0.2429743823362348,-2.276815099249733,-1.6950776721590923,-0.8156660893685442,-0.16252468442662527,0.7652471228243293,1.2518494434404626,0.5499759961500341,-0.42980608628404926,-0.8917525949913199,-0.8735041268136643,-1.1376464032347882,-0.8525129210657961,-1.1877744704791398,1.8490565228937434,3.0099665658626984,0.8881460935620807,0.09987337536450891,1.522712620097631,-0.11762749178685872,1.2646271837575007,-0.9380545682992099,-0.5980467029282812,-2.0271345700289976,0.08702098176365403,1.3502675070007084,0.5081619621254985,0.36974079662912573,-1.2150835541023115,-0.20290110561553942,-0.17170916141586323,0.8443876258695892,1.740229020734938,-0.17924558703971172,-1.657702178319866,0.8506435915044218,0.23719596545561883,2.202024123998413,0.35317355197226474,-1.199797954392338,-1.091209522963344,0.9513021663786202,-1.7535359456144497,-1.7595142630164546,-2.1316654913388398,1.1817702605181568,-0.41421860496417817,0.04682031637839734,0.26496275481300047,-1.2553515468862269,-1.0005466419908657],\"xaxis\":\"x\",\"y\":[-3.2144101373598155,0.7269894872108147,0.2535664348405967,1.1887468284835632,1.021725431224121,0.48082829631362467,1.5632898538439737,-0.7761260954273641,2.7974727464948828,0.3738355534444625,0.21037270049915513,0.4694099154602861,1.5113251206944556,0.10216446155525938,1.5314602093359055,0.2921287951558851,0.5152494188986921,0.1814137483184617,0.9939430714237346,-0.3026301870576915,0.9293758877408322,0.5137865556315726,3.028305882092936,0.16814711138138017,1.061687026909314,1.2105253713706563,1.4512241177050318,0.8087196836035624,1.7569956496140224,0.8012806835952787,0.8553420199106914,1.0873830514682867,1.680777443195102,-1.0140125588324604,0.145575965088091,1.0488020617159326,1.4579732027714853,-0.30497103946360715,1.2775246137450578,-0.1095310244267218,1.4781332031251675,2.820244303975252,0.13742403047880059,1.3193026499232507,1.6019043619706128,1.3057683783046876,1.0116286486696442,-0.00809430981190351,1.5583222224719426,1.5866097764180838,0.5756111338262448,1.7915539508434637,0.10166353868343492,2.719375399789728,1.0028682525195711,1.6660018215512657,0.9683402919630296,0.6390178620362037,2.1335959981334236,1.020562025960116,0.9942555469137359,0.8715192370849554,0.9759460854881572,0.9531602792370331,0.8264836505901175,0.9628101642160563,-0.3927010555794692,0.8709150677778985,1.5400605768466198,1.2500727724245686,1.8990395660811208,2.251812878793557,1.4670182125740956,1.4622480675588214,0.012236050689505729,1.5157572911738415,0.8953397549560504,1.991881008501358,1.2433801357589154,0.8830711710906352,1.5920564573726164,1.3576605299725895,1.1454060458641862,2.9524916060716526,1.5528749818498844,0.4833346366830934,1.1575650016805392,1.0931676009423081,0.38386288019767023,1.5786770455600765,0.8786312883040523,0.648865305394116,0.7640852666329637,0.37280185990649517,0.17920693734556303,-0.1826441759091355,0.5174164384399259,1.299560500525393,0.9890230017163302,1.7666726082343904,1.2099828922281062,1.642109199131336],\"yaxis\":\"y\",\"type\":\"scatter\"},{\"hovertemplate\":\"label=k\\u003cbr\\u003ex_1=%{x}\\u003cbr\\u003ex_2=%{y}\\u003cextra\\u003e\\u003c\\u002fextra\\u003e\",\"legendgroup\":\"k\",\"marker\":{\"color\":\"#EF553B\",\"symbol\":\"circle\"},\"mode\":\"markers\",\"name\":\"k\",\"orientation\":\"v\",\"showlegend\":true,\"x\":[-1.2357623666647777,0.7207319625121981,0.04854688598765278,-1.006911454325123,-1.1718391908547918,-0.2771501019881173,-0.9248559929564053,0.8823454327213786,1.2061134223313588,0.9005356011453814,-1.0384032276563124,-0.9351792340061873,-0.8699954125621665,0.25355621588673627,-1.1456734035832459,-0.8356220645904134,0.009245162203309953,-1.0824187466895963,-1.114387120845623,2.028956502721556,0.05157200785618099,-1.062439470807042,1.1216700890472102,2.4075576595803945,-1.0881590602455393,-0.8834765053466817,-1.041300162959552,0.4418972305618506,2.1348753764782242,1.4082402753442411,1.456382222059246,0.26924996487285613,0.8411027940739737,1.5755283170128411,-0.8039831591451785,1.4727494557378642,-0.928215805917026,-1.036849132436352,-0.9249775418274133,1.2255500842339937,-1.112440011835457,0.8400045292225757,1.5376270602418787,-0.7420116264466012,1.031401017777751,-0.7890491637988525,-1.2241935221674343,2.2604543202453824,1.3150777836451712,-0.3303507205593095,-1.1046095546112351,2.176478023167797,1.648907803972648,0.3410526919062584,-1.1262699563978082,-0.8364044564156181,-0.18646050482152843,-1.2925973822401444,-1.0665796222940518,0.9161640067056432,-0.9721071173843532,-0.09465561660507782,-0.9729553386318198,-0.9081380315866836,-0.8799584896371366,-0.9756266759012262,-0.8946421002872241,-1.1089943452154274,-1.137021221931724,-0.6956964474872891,1.9191385943917134,0.8591340373950658,0.42580126171285315,-1.1307147952179826,1.1575164974548098,1.6898412324806453,-1.0273199872611067,-0.8319258870689361,1.9793022834535878,-1.0093397002161186,-0.6965361697623691,-1.0928603519087825,-1.0247447003291497,1.164204303851094,1.0572638425644691,-0.934910400299853,1.6474289352650722,-0.8514959615173983,1.2091408300407969,-1.0226520467562852,-1.0231351921655842,0.2868662096250555,-1.132834759721709,-0.9159659798654765,-0.8945436774335179,-0.9921089294896663,1.4785049425487626,-0.8639515296025424],\"xaxis\":\"x\",\"y\":[-3.9979524082807476,-0.026282436328033953,-2.170248902062052,-0.7329888801300424,-1.722394419808094,-0.7237126827273639,0.09684717056443515,-1.4023738935944612,0.11151019522765937,-2.9490969460815983,-1.5452413487834198,-0.2988110219830955,-0.2336338426030632,-1.341392119013252,-1.3926707293512832,0.042897990462331226,-0.15154282344683023,-0.9442107358647719,-3.8092759562143668,0.4724548913816835,-0.604688585413576,-2.2653488878106773,-0.476727161538521,-1.5581052199393046,-1.665913016245788,-0.39262703422620926,-2.891368488128583,-2.0724059081116843,0.21579029492016044,1.3177889086945989,-1.417983576199638,-1.8902130433818218,-1.4944329924568174,-0.8740328857635304,-1.653796639714096,-1.2048465328376325,-1.5960134868433213,-1.054816787048605,-0.2812876711968264,-0.6624887719286565,-2.8303342168176107,-1.2403319649379514,0.5747172318396416,-0.2262440560715353,-0.16822223357262245,1.1675363154121472,-1.9884890505966122,0.22687373964868862,0.6843531510144225,-3.1759966673085223,-1.3904377709116553,1.7760611691357941,-0.6211664327889015,-0.6158430899870696,-0.5617080469269911,-0.6207525016403348,-1.9791279144015543,-3.8495937893716903,-1.1718089928476991,-3.4272399495882273,-0.18858193619759978,-3.1233626442464892,-1.198670472123419,-0.4649750544599487,0.8533093290618752,-1.010769901524065,-1.0873070205207496,-0.07226361618127741,-1.8497459151271096,0.9624159453249714,-0.434558229299537,-1.1694773007156354,-2.478807902478135,-1.7599835089626168,-0.26377117101487746,-1.532272499686469,-0.5758966844265707,-1.3425744491932798,0.1845504257870434,-0.04022931340191227,-2.1734521767309936,-0.6037980919593833,-2.664517819874825,-2.428479696709386,-0.31677961479175176,-0.7139802019863397,-0.8687232792127711,0.7355139929039125,-2.5528118821299035,-1.6298487437150548,-1.4553051548773979,-0.7810397147523469,-1.7570649770943991,-0.4484316550363968,0.02180246992899093,-1.3928912333336916,-1.1931951162734105,-0.3063977942904652],\"yaxis\":\"y\",\"type\":\"scatter\"},{\"name\":\"brzeg\",\"x\":[-2,4],\"y\":[-0.17586438605836538,0.18934146132051943],\"type\":\"scatter\"}],                        {\"template\":{\"data\":{\"histogram2dcontour\":[{\"type\":\"histogram2dcontour\",\"colorbar\":{\"outlinewidth\":0,\"ticks\":\"\"},\"colorscale\":[[0.0,\"#0d0887\"],[0.1111111111111111,\"#46039f\"],[0.2222222222222222,\"#7201a8\"],[0.3333333333333333,\"#9c179e\"],[0.4444444444444444,\"#bd3786\"],[0.5555555555555556,\"#d8576b\"],[0.6666666666666666,\"#ed7953\"],[0.7777777777777778,\"#fb9f3a\"],[0.8888888888888888,\"#fdca26\"],[1.0,\"#f0f921\"]]}],\"choropleth\":[{\"type\":\"choropleth\",\"colorbar\":{\"outlinewidth\":0,\"ticks\":\"\"}}],\"histogram2d\":[{\"type\":\"histogram2d\",\"colorbar\":{\"outlinewidth\":0,\"ticks\":\"\"},\"colorscale\":[[0.0,\"#0d0887\"],[0.1111111111111111,\"#46039f\"],[0.2222222222222222,\"#7201a8\"],[0.3333333333333333,\"#9c179e\"],[0.4444444444444444,\"#bd3786\"],[0.5555555555555556,\"#d8576b\"],[0.6666666666666666,\"#ed7953\"],[0.7777777777777778,\"#fb9f3a\"],[0.8888888888888888,\"#fdca26\"],[1.0,\"#f0f921\"]]}],\"heatmap\":[{\"type\":\"heatmap\",\"colorbar\":{\"outlinewidth\":0,\"ticks\":\"\"},\"colorscale\":[[0.0,\"#0d0887\"],[0.1111111111111111,\"#46039f\"],[0.2222222222222222,\"#7201a8\"],[0.3333333333333333,\"#9c179e\"],[0.4444444444444444,\"#bd3786\"],[0.5555555555555556,\"#d8576b\"],[0.6666666666666666,\"#ed7953\"],[0.7777777777777778,\"#fb9f3a\"],[0.8888888888888888,\"#fdca26\"],[1.0,\"#f0f921\"]]}],\"heatmapgl\":[{\"type\":\"heatmapgl\",\"colorbar\":{\"outlinewidth\":0,\"ticks\":\"\"},\"colorscale\":[[0.0,\"#0d0887\"],[0.1111111111111111,\"#46039f\"],[0.2222222222222222,\"#7201a8\"],[0.3333333333333333,\"#9c179e\"],[0.4444444444444444,\"#bd3786\"],[0.5555555555555556,\"#d8576b\"],[0.6666666666666666,\"#ed7953\"],[0.7777777777777778,\"#fb9f3a\"],[0.8888888888888888,\"#fdca26\"],[1.0,\"#f0f921\"]]}],\"contourcarpet\":[{\"type\":\"contourcarpet\",\"colorbar\":{\"outlinewidth\":0,\"ticks\":\"\"}}],\"contour\":[{\"type\":\"contour\",\"colorbar\":{\"outlinewidth\":0,\"ticks\":\"\"},\"colorscale\":[[0.0,\"#0d0887\"],[0.1111111111111111,\"#46039f\"],[0.2222222222222222,\"#7201a8\"],[0.3333333333333333,\"#9c179e\"],[0.4444444444444444,\"#bd3786\"],[0.5555555555555556,\"#d8576b\"],[0.6666666666666666,\"#ed7953\"],[0.7777777777777778,\"#fb9f3a\"],[0.8888888888888888,\"#fdca26\"],[1.0,\"#f0f921\"]]}],\"surface\":[{\"type\":\"surface\",\"colorbar\":{\"outlinewidth\":0,\"ticks\":\"\"},\"colorscale\":[[0.0,\"#0d0887\"],[0.1111111111111111,\"#46039f\"],[0.2222222222222222,\"#7201a8\"],[0.3333333333333333,\"#9c179e\"],[0.4444444444444444,\"#bd3786\"],[0.5555555555555556,\"#d8576b\"],[0.6666666666666666,\"#ed7953\"],[0.7777777777777778,\"#fb9f3a\"],[0.8888888888888888,\"#fdca26\"],[1.0,\"#f0f921\"]]}],\"mesh3d\":[{\"type\":\"mesh3d\",\"colorbar\":{\"outlinewidth\":0,\"ticks\":\"\"}}],\"scatter\":[{\"fillpattern\":{\"fillmode\":\"overlay\",\"size\":10,\"solidity\":0.2},\"type\":\"scatter\"}],\"parcoords\":[{\"type\":\"parcoords\",\"line\":{\"colorbar\":{\"outlinewidth\":0,\"ticks\":\"\"}}}],\"scatterpolargl\":[{\"type\":\"scatterpolargl\",\"marker\":{\"colorbar\":{\"outlinewidth\":0,\"ticks\":\"\"}}}],\"bar\":[{\"error_x\":{\"color\":\"#2a3f5f\"},\"error_y\":{\"color\":\"#2a3f5f\"},\"marker\":{\"line\":{\"color\":\"#E5ECF6\",\"width\":0.5},\"pattern\":{\"fillmode\":\"overlay\",\"size\":10,\"solidity\":0.2}},\"type\":\"bar\"}],\"scattergeo\":[{\"type\":\"scattergeo\",\"marker\":{\"colorbar\":{\"outlinewidth\":0,\"ticks\":\"\"}}}],\"scatterpolar\":[{\"type\":\"scatterpolar\",\"marker\":{\"colorbar\":{\"outlinewidth\":0,\"ticks\":\"\"}}}],\"histogram\":[{\"marker\":{\"pattern\":{\"fillmode\":\"overlay\",\"size\":10,\"solidity\":0.2}},\"type\":\"histogram\"}],\"scattergl\":[{\"type\":\"scattergl\",\"marker\":{\"colorbar\":{\"outlinewidth\":0,\"ticks\":\"\"}}}],\"scatter3d\":[{\"type\":\"scatter3d\",\"line\":{\"colorbar\":{\"outlinewidth\":0,\"ticks\":\"\"}},\"marker\":{\"colorbar\":{\"outlinewidth\":0,\"ticks\":\"\"}}}],\"scattermapbox\":[{\"type\":\"scattermapbox\",\"marker\":{\"colorbar\":{\"outlinewidth\":0,\"ticks\":\"\"}}}],\"scatterternary\":[{\"type\":\"scatterternary\",\"marker\":{\"colorbar\":{\"outlinewidth\":0,\"ticks\":\"\"}}}],\"scattercarpet\":[{\"type\":\"scattercarpet\",\"marker\":{\"colorbar\":{\"outlinewidth\":0,\"ticks\":\"\"}}}],\"carpet\":[{\"aaxis\":{\"endlinecolor\":\"#2a3f5f\",\"gridcolor\":\"white\",\"linecolor\":\"white\",\"minorgridcolor\":\"white\",\"startlinecolor\":\"#2a3f5f\"},\"baxis\":{\"endlinecolor\":\"#2a3f5f\",\"gridcolor\":\"white\",\"linecolor\":\"white\",\"minorgridcolor\":\"white\",\"startlinecolor\":\"#2a3f5f\"},\"type\":\"carpet\"}],\"table\":[{\"cells\":{\"fill\":{\"color\":\"#EBF0F8\"},\"line\":{\"color\":\"white\"}},\"header\":{\"fill\":{\"color\":\"#C8D4E3\"},\"line\":{\"color\":\"white\"}},\"type\":\"table\"}],\"barpolar\":[{\"marker\":{\"line\":{\"color\":\"#E5ECF6\",\"width\":0.5},\"pattern\":{\"fillmode\":\"overlay\",\"size\":10,\"solidity\":0.2}},\"type\":\"barpolar\"}],\"pie\":[{\"automargin\":true,\"type\":\"pie\"}]},\"layout\":{\"autotypenumbers\":\"strict\",\"colorway\":[\"#636efa\",\"#EF553B\",\"#00cc96\",\"#ab63fa\",\"#FFA15A\",\"#19d3f3\",\"#FF6692\",\"#B6E880\",\"#FF97FF\",\"#FECB52\"],\"font\":{\"color\":\"#2a3f5f\"},\"hovermode\":\"closest\",\"hoverlabel\":{\"align\":\"left\"},\"paper_bgcolor\":\"white\",\"plot_bgcolor\":\"#E5ECF6\",\"polar\":{\"bgcolor\":\"#E5ECF6\",\"angularaxis\":{\"gridcolor\":\"white\",\"linecolor\":\"white\",\"ticks\":\"\"},\"radialaxis\":{\"gridcolor\":\"white\",\"linecolor\":\"white\",\"ticks\":\"\"}},\"ternary\":{\"bgcolor\":\"#E5ECF6\",\"aaxis\":{\"gridcolor\":\"white\",\"linecolor\":\"white\",\"ticks\":\"\"},\"baxis\":{\"gridcolor\":\"white\",\"linecolor\":\"white\",\"ticks\":\"\"},\"caxis\":{\"gridcolor\":\"white\",\"linecolor\":\"white\",\"ticks\":\"\"}},\"coloraxis\":{\"colorbar\":{\"outlinewidth\":0,\"ticks\":\"\"}},\"colorscale\":{\"sequential\":[[0.0,\"#0d0887\"],[0.1111111111111111,\"#46039f\"],[0.2222222222222222,\"#7201a8\"],[0.3333333333333333,\"#9c179e\"],[0.4444444444444444,\"#bd3786\"],[0.5555555555555556,\"#d8576b\"],[0.6666666666666666,\"#ed7953\"],[0.7777777777777778,\"#fb9f3a\"],[0.8888888888888888,\"#fdca26\"],[1.0,\"#f0f921\"]],\"sequentialminus\":[[0.0,\"#0d0887\"],[0.1111111111111111,\"#46039f\"],[0.2222222222222222,\"#7201a8\"],[0.3333333333333333,\"#9c179e\"],[0.4444444444444444,\"#bd3786\"],[0.5555555555555556,\"#d8576b\"],[0.6666666666666666,\"#ed7953\"],[0.7777777777777778,\"#fb9f3a\"],[0.8888888888888888,\"#fdca26\"],[1.0,\"#f0f921\"]],\"diverging\":[[0,\"#8e0152\"],[0.1,\"#c51b7d\"],[0.2,\"#de77ae\"],[0.3,\"#f1b6da\"],[0.4,\"#fde0ef\"],[0.5,\"#f7f7f7\"],[0.6,\"#e6f5d0\"],[0.7,\"#b8e186\"],[0.8,\"#7fbc41\"],[0.9,\"#4d9221\"],[1,\"#276419\"]]},\"xaxis\":{\"gridcolor\":\"white\",\"linecolor\":\"white\",\"ticks\":\"\",\"title\":{\"standoff\":15},\"zerolinecolor\":\"white\",\"automargin\":true,\"zerolinewidth\":2},\"yaxis\":{\"gridcolor\":\"white\",\"linecolor\":\"white\",\"ticks\":\"\",\"title\":{\"standoff\":15},\"zerolinecolor\":\"white\",\"automargin\":true,\"zerolinewidth\":2},\"scene\":{\"xaxis\":{\"backgroundcolor\":\"#E5ECF6\",\"gridcolor\":\"white\",\"linecolor\":\"white\",\"showbackground\":true,\"ticks\":\"\",\"zerolinecolor\":\"white\",\"gridwidth\":2},\"yaxis\":{\"backgroundcolor\":\"#E5ECF6\",\"gridcolor\":\"white\",\"linecolor\":\"white\",\"showbackground\":true,\"ticks\":\"\",\"zerolinecolor\":\"white\",\"gridwidth\":2},\"zaxis\":{\"backgroundcolor\":\"#E5ECF6\",\"gridcolor\":\"white\",\"linecolor\":\"white\",\"showbackground\":true,\"ticks\":\"\",\"zerolinecolor\":\"white\",\"gridwidth\":2}},\"shapedefaults\":{\"line\":{\"color\":\"#2a3f5f\"}},\"annotationdefaults\":{\"arrowcolor\":\"#2a3f5f\",\"arrowhead\":0,\"arrowwidth\":1},\"geo\":{\"bgcolor\":\"white\",\"landcolor\":\"#E5ECF6\",\"subunitcolor\":\"white\",\"showland\":true,\"showlakes\":true,\"lakecolor\":\"white\"},\"title\":{\"x\":0.05},\"mapbox\":{\"style\":\"light\"}}}},                        {\"responsive\": true}                    ).then(function(){\n",
              "                            \n",
              "var gd = document.getElementById('a39aebb2-879e-455e-ab7e-d6828267c269');\n",
              "var x = new MutationObserver(function (mutations, observer) {{\n",
              "        var display = window.getComputedStyle(gd).display;\n",
              "        if (!display || display === 'none') {{\n",
              "            console.log([gd, 'removed!']);\n",
              "            Plotly.purge(gd);\n",
              "            observer.disconnect();\n",
              "        }}\n",
              "}});\n",
              "\n",
              "// Listen for the removal of the full notebook cells\n",
              "var notebookContainer = gd.closest('#notebook-container');\n",
              "if (notebookContainer) {{\n",
              "    x.observe(notebookContainer, {childList: true});\n",
              "}}\n",
              "\n",
              "// Listen for the clearing of the current output cell\n",
              "var outputEl = gd.closest('.output');\n",
              "if (outputEl) {{\n",
              "    x.observe(outputEl, {childList: true});\n",
              "}}\n",
              "\n",
              "                        })                };                            </script>        </div>\n",
              "</body>\n",
              "</html>"
            ]
          },
          "metadata": {}
        }
      ],
      "source": [
        "plot_figure(w_history[-1], b_history[-1])"
      ],
      "metadata": {
        "colab": {
          "base_uri": "https://localhost:8080/",
          "height": 542
        },
        "id": "ll-fl7HbP2-K",
        "outputId": "f5242407-0eff-4949-cfc5-56a4d850467d"
      },
      "execution_count": 23
    },
    {
      "cell_type": "code",
      "outputs": [
        {
          "output_type": "execute_result",
          "data": {
            "text/plain": [
              "array([[83, 15],\n",
              "       [12, 90]])"
            ]
          },
          "metadata": {},
          "execution_count": 28
        }
      ],
      "source": [
        "from sklearn.metrics import confusion_matrix, accuracy_score\n",
        "y_pred= model(X, w_history[-1], b_history[-1])\n",
        "cm = confusion_matrix(y, np.where(y_pred>0.5, 1, 0))\n",
        "\n",
        "cm"
      ],
      "metadata": {
        "colab": {
          "base_uri": "https://localhost:8080/"
        },
        "id": "Uy0ljzvVP2-K",
        "outputId": "6baaf0fc-8282-442f-c4ca-7be86235283e"
      },
      "execution_count": 28
    }
  ],
  "metadata": {
    "kernelspec": {
      "display_name": "Python 3",
      "language": "python",
      "name": "python3"
    },
    "language_info": {
      "codemirror_mode": {
        "name": "ipython",
        "version": 3
      },
      "file_extension": ".py",
      "mimetype": "text/x-python",
      "name": "python",
      "nbconvert_exporter": "python",
      "pygments_lexer": "ipython3",
      "version": "3.9.6"
    },
    "colab": {
      "provenance": [],
      "include_colab_link": true
    }
  },
  "nbformat": 4,
  "nbformat_minor": 0
}